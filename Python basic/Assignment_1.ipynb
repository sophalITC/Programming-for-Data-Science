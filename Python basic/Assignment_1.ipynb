{
 "cells": [
  {
   "cell_type": "code",
   "execution_count": 1,
   "id": "27dd8036",
   "metadata": {},
   "outputs": [
    {
     "name": "stdout",
     "output_type": "stream",
     "text": [
      "2030,2065,2100,2135,2170,2205,2240,2275,2310,2345,2380,2415,2450,2485,2520,2555,2590,2625,2660,2695,2730,2765,2800,2835,2870,2905,2940,2975,3010,3045,3080,3115,3150,3185\n"
     ]
    }
   ],
   "source": [
    "number = []\n",
    "for x in range(2000,3200):\n",
    "    if (x%7 == 0) and (x%5 == 0):\n",
    "        number.append(str(x))\n",
    "        \n",
    "print(','.join(number))"
   ]
  },
  {
   "cell_type": "code",
   "execution_count": 4,
   "id": "5dedaac3",
   "metadata": {},
   "outputs": [
    {
     "name": "stdout",
     "output_type": "stream",
     "text": [
      "8\n",
      "40320\n"
     ]
    }
   ],
   "source": [
    "def fac(x):\n",
    "    if x == 0:\n",
    "        return 1\n",
    "    \n",
    "    return x * fac(x - 1)\n",
    "\n",
    "x = int(input())\n",
    "print(fac(x))"
   ]
  },
  {
   "cell_type": "code",
   "execution_count": 5,
   "id": "5bc2b5d8",
   "metadata": {},
   "outputs": [
    {
     "name": "stdout",
     "output_type": "stream",
     "text": [
      "Type a number: 8\n",
      "{1: 1, 2: 4, 3: 9, 4: 16, 5: 25, 6: 36, 7: 49, 8: 64}\n"
     ]
    }
   ],
   "source": [
    "number = int(input(\"Type a number: \"))\n",
    "numberdict = {}\n",
    "for i in range(1, number + 1):\n",
    "    numberdict[i] = i*i\n",
    "    \n",
    "print(numberdict)"
   ]
  },
  {
   "cell_type": "code",
   "execution_count": 6,
   "id": "4eefb68c",
   "metadata": {},
   "outputs": [
    {
     "name": "stdout",
     "output_type": "stream",
     "text": [
      "Input some comma seperated numbers: 34,67,55,33,12,98\n",
      "List :  ['34', '67', '55', '33', '12', '98']\n",
      "Tuple : ('34', '67', '55', '33', '12', '98')\n"
     ]
    }
   ],
   "source": [
    "values = input(\"Input some comma seperated numbers: \")\n",
    "list = values.split(\",\")\n",
    "tuple = tuple(list)\n",
    "print('List : ', list)\n",
    "print('Tuple :', tuple)"
   ]
  },
  {
   "cell_type": "code",
   "execution_count": null,
   "id": "a8b4a555",
   "metadata": {},
   "outputs": [],
   "source": [
    "class IOString():\n",
    "    def __init__(self):\n",
    "        self.str1 = \"\"\n",
    "    \n",
    "    def get_string(self):\n",
    "        self.str1 = input()\n",
    "        \n",
    "    def print_string(self):\n",
    "        print(self.str1.upper())\n",
    "\n",
    "        \n",
    "str1 = IOString()\n",
    "str1.get_string()\n",
    "str1.print_strring()"
   ]
  },
  {
   "cell_type": "code",
   "execution_count": null,
   "id": "37ddb324",
   "metadata": {},
   "outputs": [],
   "source": [
    "import math \n",
    "numbers = input(\"Provide D: \")\n",
    "numbers = numbers.split(',')\n",
    "\n",
    "result_list = []\n",
    "for D in numbers:\n",
    "    Q = round(math.sqrt(2*50*int(D)/30))\n",
    "    result_list.append(Q)\n",
    "    \n",
    "print(result_list)"
   ]
  },
  {
   "cell_type": "code",
   "execution_count": null,
   "id": "db285505",
   "metadata": {},
   "outputs": [],
   "source": [
    "input_str = input()\n",
    "dimensions = [int(x) for x in input_str.split(',')]\n",
    "row_num = dimension[0]\n",
    "col_num = dimension[1]\n",
    "multi_list = [[0 for col in range(col_num)]for row in range(row_num)]\n",
    "\n",
    "for row in range(row_num):\n",
    "    for col in range(col_num):\n",
    "        multilist[row][col] = row * col \n",
    "        \n",
    "print(multilist)"
   ]
  },
  {
   "cell_type": "code",
   "execution_count": null,
   "id": "ef804f27",
   "metadata": {},
   "outputs": [],
   "source": [
    "items = [x for x in input().split(',')]\n",
    "items.sort()\n",
    "print(','.join(items))"
   ]
  },
  {
   "cell_type": "code",
   "execution_count": null,
   "id": "2d0bf1d5",
   "metadata": {},
   "outputs": [],
   "source": [
    "line = []\n",
    "while True:\n",
    "    l = input()\n",
    "    if l:\n",
    "        line.append(l.upper())\n",
    "    else:\n",
    "        break;\n",
    "        \n",
    "for l in lines:\n",
    "    print(l)"
   ]
  },
  {
   "cell_type": "code",
   "execution_count": null,
   "id": "e20bdc16",
   "metadata": {},
   "outputs": [],
   "source": [
    "s = input()\n",
    "words = [word for word in s.split(\" \")]\n",
    "print(\" \".join(sorted(list(set(words)))))"
   ]
  },
  {
   "cell_type": "code",
   "execution_count": null,
   "id": "2cf9c48c",
   "metadata": {},
   "outputs": [],
   "source": [
    "value = []\n",
    "items = [x for x in input().split(',')]\n",
    "for p in items:\n",
    "    intp = int(p,2)\n",
    "    for not intp%5:\n",
    "        value.append(p)\n",
    "\n",
    "print(','.join(value))"
   ]
  },
  {
   "cell_type": "code",
   "execution_count": null,
   "id": "a76e74ee",
   "metadata": {},
   "outputs": [],
   "source": [
    "value = []\n",
    "for i in range(1000,3001):\n",
    "    s = str(i)\n",
    "    if (int(s[0])%2 == 0)and (ints[1])%2 == 0)and(ints([2])%2 == 0)and (int(s[3])%2 == 0):\n",
    "        values.append(s)\n",
    "        \n",
    "print(\",\".join(values))"
   ]
  },
  {
   "cell_type": "code",
   "execution_count": null,
   "id": "90e22207",
   "metadata": {},
   "outputs": [],
   "source": [
    "phrase = input(\"Type in : \")\n",
    "phrase = list(phrase)\n",
    "\n",
    "l, d = 0,0\n",
    "for i in phrase:\n",
    "    if i.isalpha():\n",
    "        l += l\n",
    "    if i.isdigit():\n",
    "        d += d\n",
    "    else:\n",
    "        pass\n",
    "    \n",
    "print(\"letter:\", l)\n",
    "print(\"digit:\",d)\n"
   ]
  },
  {
   "cell_type": "code",
   "execution_count": null,
   "id": "1f395cd4",
   "metadata": {},
   "outputs": [],
   "source": [
    "s = raw_input()\n",
    "d = {\"upper case\":0, \"lower case\":0}\n",
    "for c in s:\n",
    "    if c.isupper():\n",
    "        d[\"upper case\"] += 1\n",
    "    elif c.islower():\n",
    "        d[\"lower case\"] += 1\n",
    "    else:\n",
    "        pass\n",
    "\n",
    "    print \"upper case\", d[\"upper case\"]\n",
    "    print \"lower case\", d[\"lower case\"]"
   ]
  },
  {
   "cell_type": "code",
   "execution_count": null,
   "id": "709d786d",
   "metadata": {},
   "outputs": [],
   "source": [
    "a = input()\n",
    "n1 = int(\"%s\"%a)\n",
    "n2 = int(\"%s%s\"%(a,a))\n",
    "n3 = int(\"%s%s%s\"%(a,a,a))\n",
    "n4 = int(\"%s%s%s%s\"%(a,a,a,a))\n",
    "print(n1+n2+n3+n4)"
   ]
  },
  {
   "cell_type": "code",
   "execution_count": null,
   "id": "847393a2",
   "metadata": {},
   "outputs": [],
   "source": [
    "values = input()\n",
    "numbers = [x for x in values.split(\",\")if int(x)%2! = 0]\n",
    "print(\",\".join(numbers))"
   ]
  },
  {
   "cell_type": "code",
   "execution_count": null,
   "id": "ed370f24",
   "metadata": {},
   "outputs": [],
   "source": [
    "netamount = 0\n",
    "while True:\n",
    "    s = input()\n",
    "    if not s:\n",
    "        break\n",
    "    values = s.split(\" \")\n",
    "    operation = values[0]\n",
    "    amount = int(value[1])\n",
    "    if operation == 'D':\n",
    "        netamount += amount\n",
    "    elif operation == 'W':\n",
    "        netamount -= amount\n",
    "    else:\n",
    "        pass\n",
    "\n",
    "print(netamount)"
   ]
  },
  {
   "cell_type": "code",
   "execution_count": null,
   "id": "bbf127e7",
   "metadata": {},
   "outputs": [],
   "source": [
    "import re\n",
    "p = input(\"enter your password: \")\n",
    "x = True\n",
    "while x:\n",
    "    if (len(p)< 6 or len(p)> 12):\n",
    "        break\n",
    "    elif not re.search(\"[a-z]\",p):\n",
    "        break\n",
    "    elif not re.search(\"[0-9]\", p):\n",
    "        break\n",
    "    elif not re.search(\"[A-Z]\", p):\n",
    "        break\n",
    "    elif not re.search(\"$#@\", p):\n",
    "        break\n",
    "        elif re.search(\"\\s\", p):\n",
    "            break\n",
    "    else:\n",
    "        print(\"Valid Password\")\n",
    "        x = False\n",
    "        break\n",
    "if x:\n",
    "    print(\"NOt a valid password\")"
   ]
  },
  {
   "cell_type": "code",
   "execution_count": null,
   "id": "32ef511e",
   "metadata": {},
   "outputs": [],
   "source": [
    "from operator import itemgetter\n",
    "\n",
    "people_info = []\n",
    "while True:\n",
    "    individual_info = input()\n",
    "    if individual_info == \"\":\n",
    "        break\n",
    "    else:\n",
    "        people_info.append(tuple((individual_info.split(\",\"))))\n",
    "        \n",
    "people_info.sort(key = itemgetter(0,1,2))\n",
    "print(people_info)"
   ]
  },
  {
   "cell_type": "code",
   "execution_count": null,
   "id": "4a265611",
   "metadata": {},
   "outputs": [],
   "source": [
    "def putnumbers(n):\n",
    "    i = 0\n",
    "    whilei < n:\n",
    "        j = i\n",
    "        i += 1\n",
    "        if j%7 == 0:\n",
    "            yield j\n",
    "\n",
    "for i in reverse(100):\n",
    "    print i "
   ]
  },
  {
   "cell_type": "code",
   "execution_count": null,
   "id": "c3dbe345",
   "metadata": {},
   "outputs": [],
   "source": [
    "import math\n",
    "pos = [0,0]\n",
    "while True:\n",
    "    s = raw_input()\n",
    "    if not s:\n",
    "        break\n",
    "    movement = s.split(\" \")\n",
    "    direction = movement[0]\n",
    "    steps = int(movement[1])\n",
    "    if direction == 'UP':\n",
    "        pos[0] += steps\n",
    "    elif direction == 'DOWN':\n",
    "        pos[0] -= steps\n",
    "    elif direction == 'LEFT':\n",
    "        pos[0] -= steps\n",
    "    elif direction == 'RIGHT':\n",
    "        pos[0] += steps\n",
    "    else:\n",
    "        pass\n",
    "\n",
    "printint(round(math.sqrt(pos[1]**2 + pos[0]**2)))\n",
    "    "
   ]
  },
  {
   "cell_type": "code",
   "execution_count": null,
   "id": "59865c08",
   "metadata": {},
   "outputs": [],
   "source": [
    "frq = {}\n",
    "line = raw_input()\n",
    "for word in line.split():\n",
    "    freq[word]= freq.get(word,0)+1\n",
    "    \n",
    "words = freq.keys()\n",
    "words.sort()\n",
    "\n",
    "for w in words:\n",
    "    print\"%s : %d\"%(w,freq[w])"
   ]
  },
  {
   "cell_type": "code",
   "execution_count": 8,
   "id": "f9f5876d",
   "metadata": {},
   "outputs": [
    {
     "name": "stdout",
     "output_type": "stream",
     "text": [
      "Enter the number: 5\n",
      "25\n"
     ]
    }
   ],
   "source": [
    "number =int(input(\"Enter the number: \"))\n",
    "square = number**2\n",
    "\n",
    "print(square)\n"
   ]
  },
  {
   "cell_type": "code",
   "execution_count": null,
   "id": "e2c996ef",
   "metadata": {},
   "outputs": [],
   "source": [
    "def absolute(number):\n",
    "    return abs(number)\n",
    "\n",
    "print(absolute(int(input(\"Enter the number: \"))))\n",
    "\n",
    "\n",
    "\n",
    "print(abs.__doc__)\n",
    "print(int.__doc__)\n",
    "print(raw_input.__doc__)"
   ]
  },
  {
   "cell_type": "code",
   "execution_count": null,
   "id": "a70a1743",
   "metadata": {},
   "outputs": [],
   "source": [
    "class Person:\n",
    "    def __int__(self,name):\n",
    "        self.name = name\n",
    "        \n",
    "    def say_hi(self):\n",
    "        print(\"Hello, my name is \", self.name)\n",
    "        \n",
    "        \n",
    "p = Person('Seyha')\n",
    "p.say_hi()"
   ]
  },
  {
   "cell_type": "code",
   "execution_count": 19,
   "id": "c7f0f4c0",
   "metadata": {},
   "outputs": [
    {
     "name": "stdout",
     "output_type": "stream",
     "text": [
      "13\n"
     ]
    }
   ],
   "source": [
    "def Sumfunction(numb1, numb2):\n",
    "    return numb1 + numb2\n",
    "\n",
    "print(Sumfunction(1,12))\n"
   ]
  },
  {
   "cell_type": "code",
   "execution_count": 20,
   "id": "22c36583",
   "metadata": {},
   "outputs": [
    {
     "name": "stdout",
     "output_type": "stream",
     "text": [
      "3\n"
     ]
    }
   ],
   "source": [
    "def printvalue(n):\n",
    "    print(str(n))\n",
    "    \n",
    "printvalue(3)"
   ]
  },
  {
   "cell_type": "code",
   "execution_count": 21,
   "id": "7dd08556",
   "metadata": {},
   "outputs": [
    {
     "name": "stdout",
     "output_type": "stream",
     "text": [
      "7\n"
     ]
    }
   ],
   "source": [
    "def printvalue(s1,s2):\n",
    "    print(int(s1) + int(s2))\n",
    "    \n",
    "printvalue(\"3\",\"4\")"
   ]
  },
  {
   "cell_type": "code",
   "execution_count": 22,
   "id": "1937b2d5",
   "metadata": {},
   "outputs": [
    {
     "name": "stdout",
     "output_type": "stream",
     "text": [
      "34\n"
     ]
    }
   ],
   "source": [
    "def printvalue(s1,s2):\n",
    "    print(s1 + s2)\n",
    "    \n",
    "printvalue(\"3\",\"4\")"
   ]
  },
  {
   "cell_type": "code",
   "execution_count": 24,
   "id": "6c39891d",
   "metadata": {},
   "outputs": [
    {
     "name": "stdout",
     "output_type": "stream",
     "text": [
      "three\n"
     ]
    }
   ],
   "source": [
    "def printvalue(s1,s2):\n",
    "    len1 = len(s1)\n",
    "    len2 = len(s2)\n",
    "    if len1 > len(s2):\n",
    "        print(s1)\n",
    "    elif len2 > len1:\n",
    "        print(s2)\n",
    "    else:\n",
    "        print(s1)\n",
    "        print(s2)\n",
    "        \n",
    "printvalue(\"one\", \"three\")"
   ]
  },
  {
   "cell_type": "code",
   "execution_count": 26,
   "id": "2b292d17",
   "metadata": {},
   "outputs": [
    {
     "name": "stdout",
     "output_type": "stream",
     "text": [
      "enter the number: 2\n",
      "even number\n"
     ]
    }
   ],
   "source": [
    "num = input(\"enter the number: \")\n",
    "mod = int(num) %2\n",
    "if mod > 0:\n",
    "    print(\"odd number\")\n",
    "else:\n",
    "    print(\"even number\")\n",
    "    "
   ]
  },
  {
   "cell_type": "code",
   "execution_count": 29,
   "id": "79b63b1b",
   "metadata": {},
   "outputs": [
    {
     "name": "stdout",
     "output_type": "stream",
     "text": [
      "{1: 1, 2: 4, 3: 9}\n"
     ]
    }
   ],
   "source": [
    "def printdict():\n",
    "    d = dict()\n",
    "    for i in range(1,4):\n",
    "        d[i] = i **2\n",
    "    print(d)\n",
    "\n",
    "printdict()"
   ]
  },
  {
   "cell_type": "code",
   "execution_count": 28,
   "id": "5904f308",
   "metadata": {},
   "outputs": [
    {
     "name": "stdout",
     "output_type": "stream",
     "text": [
      "{1: 1, 2: 4, 3: 9, 4: 16, 5: 25, 6: 36, 7: 49, 8: 64, 9: 81, 10: 100, 11: 121, 12: 144, 13: 169, 14: 196, 15: 225, 16: 256, 17: 289, 18: 324, 19: 361, 20: 400}\n"
     ]
    }
   ],
   "source": [
    "def printdict():\n",
    "    d = dict()\n",
    "    for i in range(1,21):\n",
    "        d[i] = i **2\n",
    "    print(d)\n",
    "\n",
    "printdict()"
   ]
  },
  {
   "cell_type": "code",
   "execution_count": 31,
   "id": "c4e93fcc",
   "metadata": {},
   "outputs": [
    {
     "name": "stdout",
     "output_type": "stream",
     "text": [
      "1\n",
      "2\n",
      "3\n",
      "4\n",
      "5\n",
      "6\n",
      "7\n",
      "8\n",
      "9\n",
      "10\n",
      "11\n",
      "12\n",
      "13\n",
      "14\n",
      "15\n",
      "16\n",
      "17\n",
      "18\n",
      "19\n",
      "20\n"
     ]
    }
   ],
   "source": [
    "def printdict():\n",
    "    d = dict()\n",
    "    for i in range(1,21):\n",
    "        d[i] = i **2\n",
    "    for k in d.keys():\n",
    "            print(k)\n",
    "\n",
    "printdict()"
   ]
  },
  {
   "cell_type": "code",
   "execution_count": 32,
   "id": "806e4a0a",
   "metadata": {},
   "outputs": [
    {
     "name": "stdout",
     "output_type": "stream",
     "text": [
      "[1, 4, 9, 16, 25, 36, 49, 64, 81, 100, 121, 144, 169, 196, 225, 256, 289, 324, 361, 400]\n"
     ]
    }
   ],
   "source": [
    "def printlist():\n",
    "    l = list()\n",
    "    for i in range(1,21):\n",
    "        l.append(i**2)\n",
    "        \n",
    "    print(l)\n",
    "    \n",
    "printlist()"
   ]
  },
  {
   "cell_type": "code",
   "execution_count": 35,
   "id": "26234183",
   "metadata": {
    "collapsed": true
   },
   "outputs": [
    {
     "name": "stdout",
     "output_type": "stream",
     "text": [
      "[1, 4, 9, 16, 25]\n"
     ]
    }
   ],
   "source": [
    "def printlist():\n",
    "    l = list()\n",
    "    for i in range(1,21):\n",
    "        l.append(i**2)\n",
    "        \n",
    "    print(l[:5])\n",
    "    \n",
    "printlist()"
   ]
  },
  {
   "cell_type": "code",
   "execution_count": 36,
   "id": "f1ce8ebf",
   "metadata": {},
   "outputs": [
    {
     "name": "stdout",
     "output_type": "stream",
     "text": [
      "[256, 289, 324, 361, 400]\n"
     ]
    }
   ],
   "source": [
    "def printlist():\n",
    "    l = list()\n",
    "    for i in range(1,21):\n",
    "        l.append(i**2)\n",
    "        \n",
    "    print(l[-5:])\n",
    "    \n",
    "printlist()"
   ]
  },
  {
   "cell_type": "code",
   "execution_count": 37,
   "id": "6bcfb124",
   "metadata": {},
   "outputs": [
    {
     "name": "stdout",
     "output_type": "stream",
     "text": [
      "[36, 49, 64, 81, 100, 121, 144, 169, 196, 225, 256, 289, 324, 361, 400]\n"
     ]
    }
   ],
   "source": [
    "def printlist():\n",
    "    l = list()\n",
    "    for i in range(1,21):\n",
    "        l.append(i**2)\n",
    "        \n",
    "    print(l[5:])\n",
    "    \n",
    "printlist()"
   ]
  },
  {
   "cell_type": "code",
   "execution_count": 39,
   "id": "9ac0978d",
   "metadata": {},
   "outputs": [
    {
     "name": "stdout",
     "output_type": "stream",
     "text": [
      "(1, 4, 9, 16, 25, 36, 49, 64, 81, 100, 121, 144, 169, 196, 225, 256, 289, 324, 361, 400)\n"
     ]
    }
   ],
   "source": [
    "def printtuple():\n",
    "    l = list()\n",
    "    for i in range(1,21):\n",
    "        l.append(i**2)\n",
    "    print(tuple(l))\n",
    "    \n",
    "printtuple()"
   ]
  },
  {
   "cell_type": "code",
   "execution_count": 40,
   "id": "9983de14",
   "metadata": {},
   "outputs": [
    {
     "name": "stdout",
     "output_type": "stream",
     "text": [
      "(1, 2, 3, 4, 5)\n",
      "(6, 7, 8, 9, 10)\n"
     ]
    }
   ],
   "source": [
    "tp = (1,2,3,4,5,6,7,8,9,10)\n",
    "tp1 = tp[:5]\n",
    "tp2 = tp[5:]\n",
    "print(tp1)\n",
    "print(tp2)\n"
   ]
  },
  {
   "cell_type": "code",
   "execution_count": 42,
   "id": "47106410",
   "metadata": {},
   "outputs": [
    {
     "name": "stdout",
     "output_type": "stream",
     "text": [
      "(2, 4, 6, 8, 10)\n"
     ]
    }
   ],
   "source": [
    "tp = (1,2,3,4,5,6,7,8,9,10)\n",
    "tp1 = tuple(i for i in tp if i%2 == 0)\n",
    "print(tp1)"
   ]
  },
  {
   "cell_type": "code",
   "execution_count": 45,
   "id": "bdabdf93",
   "metadata": {},
   "outputs": [
    {
     "name": "stdout",
     "output_type": "stream",
     "text": [
      "Please type here. --> yes\n",
      "Yes\n"
     ]
    }
   ],
   "source": [
    "text = input(\"Please type here. --> \")\n",
    "if text == \"yes\" or text == \"YES\" or text == \"Yes\":\n",
    "    print(\"Yes\")\n",
    "else:\n",
    "    print(\"No\")"
   ]
  },
  {
   "cell_type": "code",
   "execution_count": 52,
   "id": "b6c20731",
   "metadata": {},
   "outputs": [
    {
     "name": "stdout",
     "output_type": "stream",
     "text": [
      "[1, 4, 9, 16, 25, 36, 49, 64, 81, 100]\n"
     ]
    }
   ],
   "source": [
    "nums = [1,2,3,4,5,6,7,8,9,10]\n",
    "square_nums = map(lambda x: x**2, nums)\n",
    "print(list(square_nums))"
   ]
  },
  {
   "cell_type": "code",
   "execution_count": 53,
   "id": "3d60a8f1",
   "metadata": {},
   "outputs": [
    {
     "name": "stdout",
     "output_type": "stream",
     "text": [
      "[4, 16, 36, 64, 100]\n"
     ]
    }
   ],
   "source": [
    "def even(item):\n",
    "    if item % 2 == 0:\n",
    "        return item**2\n",
    "    \n",
    "l = [i for i in range(1,11)]\n",
    "print(list(filter(lambda x: x is not None, list(map(even,l)))))"
   ]
  },
  {
   "cell_type": "code",
   "execution_count": 54,
   "id": "2510b0e1",
   "metadata": {},
   "outputs": [
    {
     "name": "stdout",
     "output_type": "stream",
     "text": [
      "[2, 4, 6, 8, 10, 12, 14, 16, 18, 20]\n"
     ]
    }
   ],
   "source": [
    "def even(x):\n",
    "    return x%2 ==0\n",
    "\n",
    "even_number = filter(even,range(1,21))\n",
    "print(list(even_number))"
   ]
  },
  {
   "cell_type": "code",
   "execution_count": 55,
   "id": "63711aee",
   "metadata": {},
   "outputs": [
    {
     "name": "stdout",
     "output_type": "stream",
     "text": [
      "[1, 4, 9, 16, 25, 36, 49, 64, 81, 100, 121, 144, 169, 196, 225, 256, 289, 324, 361, 400]\n"
     ]
    }
   ],
   "source": [
    "def sqr(x):\n",
    "    return x*x\n",
    "square_nums = list(map(sqr, range(1,21)))\n",
    "print(square_nums)"
   ]
  },
  {
   "cell_type": "code",
   "execution_count": 1,
   "id": "4773ae58",
   "metadata": {},
   "outputs": [
    {
     "name": "stdout",
     "output_type": "stream",
     "text": [
      "I am American\n",
      "I am American\n"
     ]
    }
   ],
   "source": [
    "class American():\n",
    "    @staticmethod\n",
    "    def printNationality():\n",
    "        print(\"I am American\")\n",
    "        \n",
    "american = American()\n",
    "american.printNationality()\n",
    "American.printNationality()"
   ]
  },
  {
   "cell_type": "code",
   "execution_count": 3,
   "id": "84ea99ea",
   "metadata": {},
   "outputs": [
    {
     "name": "stdout",
     "output_type": "stream",
     "text": [
      "<__main__.American object at 0x000001FD08ECAE80>\n",
      "<__main__.NewYorker object at 0x000001FD08ECAC70>\n"
     ]
    }
   ],
   "source": [
    "class American():\n",
    "    pass\n",
    "class NewYorker(American):\n",
    "    pass\n",
    "\n",
    "american = American()\n",
    "newyorker = NewYorker()\n",
    "\n",
    "print(american)\n",
    "print(newyorker)"
   ]
  },
  {
   "cell_type": "code",
   "execution_count": null,
   "id": "689c2cf2",
   "metadata": {},
   "outputs": [],
   "source": [
    "class Circle():\n",
    "    def __int__(self,r):\n",
    "        self.raduis = r\n",
    "        \n",
    "    def area(self):\n",
    "        return 3.1416*(self.raduis**2)\n",
    "    \n",
    "circle = Circle(5.2)\n",
    "\n",
    "print(circle.area())"
   ]
  },
  {
   "cell_type": "code",
   "execution_count": 12,
   "id": "8d408171",
   "metadata": {},
   "outputs": [
    {
     "name": "stdout",
     "output_type": "stream",
     "text": [
      "8\n"
     ]
    }
   ],
   "source": [
    "class Rectangle():\n",
    "    def __init__(self,l,w):\n",
    "        self.length = l\n",
    "        self.width = w\n",
    "    def area(self):\n",
    "        return self.length*self.width\n",
    "    \n",
    "rect = Rectangle(2,4)\n",
    "print(rect.area())"
   ]
  },
  {
   "cell_type": "code",
   "execution_count": null,
   "id": "14d87e9a",
   "metadata": {},
   "outputs": [],
   "source": [
    "class shape():\n",
    "    def __init__(self):\n",
    "        pass\n",
    "    def area(self):\n",
    "        return 0\n",
    "    \n",
    "class Square(shape):\n",
    "    def __init__(self,length = 0):\n",
    "        shape.__init__(self)\n",
    "        self.length = length\n",
    "    def area(self):\n",
    "        return self.lenght*self.length\n",
    "    \n",
    "Asqr = Square(5)\n",
    "print(Asqr.area())\n",
    "print(Square().area())"
   ]
  },
  {
   "cell_type": "code",
   "execution_count": null,
   "id": "c176e713",
   "metadata": {},
   "outputs": [],
   "source": [
    "raise RuntimeError(\"something wrong\")"
   ]
  },
  {
   "cell_type": "code",
   "execution_count": 15,
   "id": "cfe45b1d",
   "metadata": {},
   "outputs": [
    {
     "name": "stdout",
     "output_type": "stream",
     "text": [
      "WHy on earth you area dividing a number by ZERO!!\n"
     ]
    }
   ],
   "source": [
    "def divide():\n",
    "    return 5/0\n",
    "\n",
    "try:\n",
    "    divide()\n",
    "except ZeroDivisionError as ze:\n",
    "    print(\"WHy on earth you area dividing a number by ZERO!!\")\n",
    "except:\n",
    "    print(\"Any other exception\")"
   ]
  },
  {
   "cell_type": "code",
   "execution_count": null,
   "id": "eeb09c6b",
   "metadata": {},
   "outputs": [],
   "source": [
    "class CustomException(Exception):\n",
    "    \"\"\"Exception raise for custom purpose\n",
    "    \n",
    "    Attributes:\n",
    "       msg -- explaination of the error\n",
    "    \"\"\"\n",
    "    \n",
    "    def __init__(self,msg):\n",
    "        self.msg = msg\n",
    "        \n",
    "num = int(input())\n",
    "\n",
    "try:\n",
    "    if num < 10:\n",
    "        raise CustomException( \"input is less than 10\")\n",
    "    elif num > 10:\n",
    "        raise CustomException(\"input is greater than 10\")\n",
    "except CustomException as ce:\n",
    "    print(\"the error raised: \" + ce.msg)"
   ]
  },
  {
   "cell_type": "code",
   "execution_count": null,
   "id": "7e3356d9",
   "metadata": {},
   "outputs": [],
   "source": [
    "import re\n",
    "\n",
    "email = \"john@google.com elise@python.com\"\n",
    "pattern = \"(\\w+)@\\w+.com\"\n",
    "ans = re.findall(pattern,email)\n",
    "print(ans)"
   ]
  },
  {
   "cell_type": "code",
   "execution_count": null,
   "id": "9345ea75",
   "metadata": {},
   "outputs": [],
   "source": [
    "import re\n",
    "\n",
    "email = \"john@google.com elise@python.com\"\n",
    "pattern = \"(\\w+)@\\w+.com\"\n",
    "ans = re.findall(pattern,email)\n",
    "print(ans)"
   ]
  },
  {
   "cell_type": "code",
   "execution_count": null,
   "id": "f34ca7b7",
   "metadata": {},
   "outputs": [],
   "source": [
    "import re\n",
    "\n",
    "email = input()\n",
    "pattern = \"\\d+\"\n",
    "ans = re.findall(pattern,email)\n",
    "print(ans)"
   ]
  },
  {
   "cell_type": "code",
   "execution_count": null,
   "id": "d3152206",
   "metadata": {},
   "outputs": [],
   "source": []
  }
 ],
 "metadata": {
  "kernelspec": {
   "display_name": "Python 3 (ipykernel)",
   "language": "python",
   "name": "python3"
  },
  "language_info": {
   "codemirror_mode": {
    "name": "ipython",
    "version": 3
   },
   "file_extension": ".py",
   "mimetype": "text/x-python",
   "name": "python",
   "nbconvert_exporter": "python",
   "pygments_lexer": "ipython3",
   "version": "3.9.13"
  }
 },
 "nbformat": 4,
 "nbformat_minor": 5
}
