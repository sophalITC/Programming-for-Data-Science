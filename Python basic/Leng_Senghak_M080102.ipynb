{
 "cells": [
  {
   "cell_type": "markdown",
   "metadata": {
    "id": "PZnSdZAGQCEs"
   },
   "source": [
    "# Question 1"
   ]
  },
  {
   "cell_type": "markdown",
   "metadata": {
    "id": "HtKk0DbRQCE2"
   },
   "source": [
    "Write a program which will find all such numbers which are divisible by 7 but are not a multiple of 5, between 2000 and 3200 (both included).  \n",
    "The numbers obtained should be printed in a comma-separated sequence on a single line."
   ]
  },
  {
   "cell_type": "code",
   "execution_count": null,
   "metadata": {
    "id": "Zd0KiPSdQCE3"
   },
   "outputs": [],
   "source": [
    "for i in range (2000, 3201):\n",
    "    if i%7 == 0 and i%5 != 0:\n",
    "        print(i, end = ', ')"
   ]
  },
  {
   "cell_type": "markdown",
   "metadata": {
    "id": "QPMgGU2uQCE4"
   },
   "source": [
    "# Question 2"
   ]
  },
  {
   "cell_type": "markdown",
   "metadata": {
    "id": "rwmvNKNHQCE5"
   },
   "source": [
    "Write a program which can compute the factorial of a given numbers.   \n",
    "The results should be printed in a comma-separated sequence on a single line.  \n",
    "Suppose the following input is supplied to the program:"
   ]
  },
  {
   "cell_type": "code",
   "execution_count": null,
   "metadata": {
    "id": "bZNN9K6bQCE5",
    "outputId": "e312df7b-6ffc-43af-fc4a-82ede805a84c"
   },
   "outputs": [
    {
     "name": "stdout",
     "output_type": "stream",
     "text": [
      "40320\n"
     ]
    }
   ],
   "source": [
    "numb = input()\n",
    "numb = int(numb)\n",
    "j = 1\n",
    "for i in range(1,numb+1):\n",
    "    j = j*i\n",
    "print(j)"
   ]
  },
  {
   "cell_type": "markdown",
   "metadata": {
    "id": "SmixOcFKQCE6"
   },
   "source": [
    "# Question 3"
   ]
  },
  {
   "cell_type": "markdown",
   "metadata": {
    "id": "39jRStogQCE7"
   },
   "source": [
    "With a given integral number n, write a program to generate a dictionary that contains (i, i*i) such that is an integral number between 1 and n (both included). and then the program should print the dictionary.  \n",
    "Suppose the following input is supplied to the program: 8"
   ]
  },
  {
   "cell_type": "code",
   "execution_count": null,
   "metadata": {
    "id": "j4_7FgpRQCE8",
    "outputId": "26b94f1d-2916-4de2-dce0-3fe856485bcb"
   },
   "outputs": [
    {
     "name": "stdout",
     "output_type": "stream",
     "text": [
      "{1: 1, 2: 4, 3: 9, 4: 16, 5: 25, 6: 36, 7: 49, 8: 64, 9: 81, 10: 100, 11: 121, 12: 144, 13: 169, 14: 196, 15: 225, 16: 256, 17: 289, 18: 324, 19: 361, 20: 400}\n"
     ]
    }
   ],
   "source": [
    "numb = int(input())\n",
    "ans = {}\n",
    "for i in range(1,numb+1):\n",
    "    ans[i] = i*i\n",
    "print(ans)\n"
   ]
  },
  {
   "cell_type": "markdown",
   "metadata": {
    "id": "QFEzPSbhQCE8"
   },
   "source": [
    "# Question 4"
   ]
  },
  {
   "cell_type": "markdown",
   "metadata": {
    "id": "1DmQ92d0QCE9"
   },
   "source": [
    "Write a program which accepts a sequence of comma-separated numbers from console and generate a list and a tuple which contains every number.  \n",
    "Suppose the following input is supplied to the program:  \n",
    "34,67,55,33,12,98  \n",
    "Then, the output should be:  \n",
    "['34', '67', '55', '33', '12', '98']  \n",
    "('34', '67', '55', '33', '12', '98')"
   ]
  },
  {
   "cell_type": "code",
   "execution_count": null,
   "metadata": {
    "id": "qQPZi-smQCE9",
    "outputId": "85c5ab84-d367-421c-8e34-b04a793821f8"
   },
   "outputs": [
    {
     "name": "stdout",
     "output_type": "stream",
     "text": [
      "['12', '12', '32', '36']\n",
      "('12', '12', '32', '36')\n"
     ]
    }
   ],
   "source": [
    "num = [x for x in input().split(',')]\n",
    "lst = list(num)\n",
    "tple = tuple(lst)\n",
    "print(lst)\n",
    "print(tple)"
   ]
  },
  {
   "cell_type": "markdown",
   "metadata": {
    "id": "k7qVOEbzQCE-"
   },
   "source": [
    "# Question 5"
   ]
  },
  {
   "cell_type": "markdown",
   "metadata": {
    "id": "ZKkLH6l5QCE-"
   },
   "source": [
    "Define a class which has at least two methods:  \n",
    "getString: to get a string from console input  \n",
    "printString: to print the string in upper case.  \n",
    "Also please include simple test function to test the class methods."
   ]
  },
  {
   "cell_type": "code",
   "execution_count": null,
   "metadata": {
    "id": "lpOG-lf9QCE-"
   },
   "outputs": [],
   "source": [
    "class twoMethod():\n",
    "    def __init__(self):\n",
    "        self.str = ''\n",
    "    def getString(self):\n",
    "        self.str = input()\n",
    "    def printString(self):\n",
    "        print(self.str)\n",
    "\n",
    "stri = twoMethod()\n",
    "stri.getString()\n",
    "stri.printString()"
   ]
  },
  {
   "cell_type": "markdown",
   "metadata": {
    "id": "DATT6O5xQCE_"
   },
   "source": [
    "# Question 6"
   ]
  },
  {
   "cell_type": "markdown",
   "metadata": {
    "id": "npW9DTDCQCE_"
   },
   "source": [
    "Write a program that calculates and prints the value according to the given formula:  \n",
    "Q = Square root of [(2 * C * D)/H]  \n",
    "Following are the fixed values of C and H:  \n",
    "C is 50. H is 30.  \n",
    "D is the variable whose values should be input to your program in a comma-separated sequence.\n"
   ]
  },
  {
   "cell_type": "code",
   "execution_count": null,
   "metadata": {
    "id": "IA3za9kSQCFA"
   },
   "outputs": [],
   "source": [
    "import math\n",
    "d = 100,150,180\n",
    "def Q(d):\n",
    "    c,h = 50,30\n",
    "    Q = math.sqrt((2*c*d)/h)\n",
    "    return Q\n",
    "for i in d:\n",
    "    ans = Q(i)\n",
    "    print(int(ans), end = ', ')"
   ]
  },
  {
   "cell_type": "markdown",
   "metadata": {
    "id": "VyrTk_UJQCFB"
   },
   "source": [
    "# Question 7"
   ]
  },
  {
   "cell_type": "markdown",
   "metadata": {
    "id": "1d55DmqZQCFD"
   },
   "source": [
    "Write a program which takes 2 digits, X,Y as input and generates a 2-dimensional array. The element value in the i-th row and j-th column of the array should be i*j.  \n",
    "Note: i=0,1.., X-1; j=0,1,¡­Y-1."
   ]
  },
  {
   "cell_type": "code",
   "execution_count": null,
   "metadata": {
    "id": "5a_XVcYWQCFE",
    "outputId": "0be4cce3-a1c3-4403-c203-d976172c7507"
   },
   "outputs": [
    {
     "name": "stdout",
     "output_type": "stream",
     "text": [
      "[[0, 0, 0, 0, 0], [0, 1, 2, 3, 4], [0, 2, 4, 6, 8]]\n"
     ]
    }
   ],
   "source": [
    "x,y = 3,5\n",
    "multi_list = [[0 for j in range(y)] for i in range(x)]\n",
    "\n",
    "for i in range(x):\n",
    "    for j in range(y):\n",
    "        multi_list[i][j]= i*j\n",
    "print(multi_list)"
   ]
  },
  {
   "cell_type": "markdown",
   "metadata": {
    "id": "8B1KdbX2QCFE"
   },
   "source": [
    "# Question 8"
   ]
  },
  {
   "cell_type": "markdown",
   "metadata": {
    "id": "tMFti6qlQCFE"
   },
   "source": [
    "Write a program that accepts a comma separated sequence of words as input and prints the words in a comma-separated sequence after sorting them alphabetically.  \n",
    "Suppose the following input is supplied to the program:  \n",
    "without,hello,bag,world  \n",
    "Then, the output should be:  \n",
    "bag,hello,without,world  "
   ]
  },
  {
   "cell_type": "code",
   "execution_count": null,
   "metadata": {
    "id": "g64QtNtcQCFF",
    "outputId": "9547576a-e289-4077-8220-4b788e5a04f3"
   },
   "outputs": [
    {
     "name": "stdout",
     "output_type": "stream",
     "text": [
      "[' mango', ' orange', ' tiger', ' what', ' why', 'hello']\n"
     ]
    }
   ],
   "source": [
    "word = [x for x in input().split(',')]\n",
    "print(sorted(word))"
   ]
  },
  {
   "cell_type": "markdown",
   "metadata": {
    "id": "fzqRTko_QCFF"
   },
   "source": [
    "# Question 9"
   ]
  },
  {
   "cell_type": "markdown",
   "metadata": {
    "id": "xFSk3RxCQCFF"
   },
   "source": [
    "Question£º  \n",
    "Write a program that accepts sequence of lines as input and prints the lines after making all characters in the sentence capitalized.  \n",
    "Suppose the following input is supplied to the program:  \n",
    "Hello world  \n",
    "Practice makes perfect  \n",
    "Then, the output should be:  \n",
    "HELLO WORLD  \n",
    "PRACTICE MAKES PERFECT  \n"
   ]
  },
  {
   "cell_type": "code",
   "execution_count": null,
   "metadata": {
    "id": "AFcJYIMtQCFF",
    "outputId": "4accf307-d80a-461a-fefc-d69ab7ba2b39"
   },
   "outputs": [
    {
     "name": "stdout",
     "output_type": "stream",
     "text": [
      "HELLO WORLD, PYTHON IS NOT FUN\n"
     ]
    }
   ],
   "source": [
    "y = str(input())\n",
    "x = y.upper()\n",
    "print(x)"
   ]
  },
  {
   "cell_type": "markdown",
   "metadata": {
    "id": "bq5xYgyoQCFG"
   },
   "source": [
    "# Question 10"
   ]
  },
  {
   "cell_type": "markdown",
   "metadata": {
    "id": "jLKxA0aMQCFG"
   },
   "source": [
    "Question:  \n",
    "Write a program that accepts a sequence of whitespace separated words as input and prints the words after removing all duplicate words and sorting them alphanumerically.  \n",
    "Suppose the following input is supplied to the program:  \n",
    "hello world and practice makes perfect and hello world again  \n",
    "Then, the output should be:  \n",
    "again and hello makes perfect practice world  \n"
   ]
  },
  {
   "cell_type": "code",
   "execution_count": null,
   "metadata": {
    "id": "xq8k-C_aQCFG",
    "outputId": "7459cbf2-c241-4856-9649-45fb9b648294"
   },
   "outputs": [
    {
     "name": "stdout",
     "output_type": "stream",
     "text": [
      "again and hello makes perfect practice world "
     ]
    }
   ],
   "source": [
    "sentence = \"hello world and practice makes perfect and hello world again\"\n",
    "spl = sentence.split()\n",
    "spl = set(spl)\n",
    "spl = sorted(spl)\n",
    "for i in spl:\n",
    "    print(i, end = ' ')\n"
   ]
  },
  {
   "cell_type": "markdown",
   "metadata": {
    "id": "ejw7g93oQCFG"
   },
   "source": [
    "# Question 11"
   ]
  },
  {
   "cell_type": "markdown",
   "metadata": {
    "id": "cK1qQ5r6QCFG"
   },
   "source": [
    "Question:  \n",
    "Write a program which accepts a sequence of comma separated 4 digit binary numbers as its input and then check whether they are divisible by 5 or not. The numbers that are divisible by 5 are to be printed in a comma separated sequence.  \n",
    "Example:  \n",
    "0100,0011,1010,1001  \n",
    "Then the output should be:  \n",
    "1010  \n",
    "Notes: Assume the data is input by console.  "
   ]
  },
  {
   "cell_type": "code",
   "execution_count": null,
   "metadata": {
    "colab": {
     "base_uri": "https://localhost:8080/"
    },
    "executionInfo": {
     "elapsed": 14427,
     "status": "ok",
     "timestamp": 1668649391990,
     "user": {
      "displayName": "Senghak Leng",
      "userId": "09655230799856728235"
     },
     "user_tz": -420
    },
    "id": "UciO0su9QCFG",
    "outputId": "b2abf554-1894-4ce4-a902-341b49657a96"
   },
   "outputs": [
    {
     "name": "stdout",
     "output_type": "stream",
     "text": [
      "1001,1100,0011\n",
      "\n"
     ]
    }
   ],
   "source": [
    "items = []\n",
    "num = [x for x in input().split(',')]\n",
    "for p in num:\n",
    "    x = int(p, 2)\n",
    "    if not x%5:\n",
    "        items.append(p)\n",
    "print(','.join(items))\n",
    "\n"
   ]
  },
  {
   "cell_type": "markdown",
   "metadata": {
    "id": "L0MXPRoLQCFH"
   },
   "source": [
    "# Question 12"
   ]
  },
  {
   "cell_type": "markdown",
   "metadata": {
    "id": "dBVSg9s-QCFH"
   },
   "source": [
    "Write a program, which will find all such numbers between 1000 and 3000 (both included) such that each digit of the number is an even number.  \n",
    "The numbers obtained should be printed in a comma-separated sequence on a single line.\n"
   ]
  },
  {
   "cell_type": "code",
   "execution_count": null,
   "metadata": {
    "id": "IU_8PzsCQCFH",
    "outputId": "0dc173ba-530a-4e10-a871-e86b095565ce"
   },
   "outputs": [
    {
     "name": "stdout",
     "output_type": "stream",
     "text": [
      "1000,1002,1004,1006,1008,1010,1012,1014,1016,1018,1020,1022,1024,1026,1028,1030,1032,1034,1036,1038,1040,1042,1044,1046,1048,1050,1052,1054,1056,1058,1060,1062,1064,1066,1068,1070,1072,1074,1076,1078,1080,1082,1084,1086,1088,1090,1092,1094,1096,1098,1100,1102,1104,1106,1108,1110,1112,1114,1116,1118,1120,1122,1124,1126,1128,1130,1132,1134,1136,1138,1140,1142,1144,1146,1148,1150,1152,1154,1156,1158,1160,1162,1164,1166,1168,1170,1172,1174,1176,1178,1180,1182,1184,1186,1188,1190,1192,1194,1196,1198,1200,1202,1204,1206,1208,1210,1212,1214,1216,1218,1220,1222,1224,1226,1228,1230,1232,1234,1236,1238,1240,1242,1244,1246,1248,1250,1252,1254,1256,1258,1260,1262,1264,1266,1268,1270,1272,1274,1276,1278,1280,1282,1284,1286,1288,1290,1292,1294,1296,1298,1300,1302,1304,1306,1308,1310,1312,1314,1316,1318,1320,1322,1324,1326,1328,1330,1332,1334,1336,1338,1340,1342,1344,1346,1348,1350,1352,1354,1356,1358,1360,1362,1364,1366,1368,1370,1372,1374,1376,1378,1380,1382,1384,1386,1388,1390,1392,1394,1396,1398,1400,1402,1404,1406,1408,1410,1412,1414,1416,1418,1420,1422,1424,1426,1428,1430,1432,1434,1436,1438,1440,1442,1444,1446,1448,1450,1452,1454,1456,1458,1460,1462,1464,1466,1468,1470,1472,1474,1476,1478,1480,1482,1484,1486,1488,1490,1492,1494,1496,1498,1500,1502,1504,1506,1508,1510,1512,1514,1516,1518,1520,1522,1524,1526,1528,1530,1532,1534,1536,1538,1540,1542,1544,1546,1548,1550,1552,1554,1556,1558,1560,1562,1564,1566,1568,1570,1572,1574,1576,1578,1580,1582,1584,1586,1588,1590,1592,1594,1596,1598,1600,1602,1604,1606,1608,1610,1612,1614,1616,1618,1620,1622,1624,1626,1628,1630,1632,1634,1636,1638,1640,1642,1644,1646,1648,1650,1652,1654,1656,1658,1660,1662,1664,1666,1668,1670,1672,1674,1676,1678,1680,1682,1684,1686,1688,1690,1692,1694,1696,1698,1700,1702,1704,1706,1708,1710,1712,1714,1716,1718,1720,1722,1724,1726,1728,1730,1732,1734,1736,1738,1740,1742,1744,1746,1748,1750,1752,1754,1756,1758,1760,1762,1764,1766,1768,1770,1772,1774,1776,1778,1780,1782,1784,1786,1788,1790,1792,1794,1796,1798,1800,1802,1804,1806,1808,1810,1812,1814,1816,1818,1820,1822,1824,1826,1828,1830,1832,1834,1836,1838,1840,1842,1844,1846,1848,1850,1852,1854,1856,1858,1860,1862,1864,1866,1868,1870,1872,1874,1876,1878,1880,1882,1884,1886,1888,1890,1892,1894,1896,1898,1900,1902,1904,1906,1908,1910,1912,1914,1916,1918,1920,1922,1924,1926,1928,1930,1932,1934,1936,1938,1940,1942,1944,1946,1948,1950,1952,1954,1956,1958,1960,1962,1964,1966,1968,1970,1972,1974,1976,1978,1980,1982,1984,1986,1988,1990,1992,1994,1996,1998,2000,2002,2004,2006,2008,2010,2012,2014,2016,2018,2020,2022,2024,2026,2028,2030,2032,2034,2036,2038,2040,2042,2044,2046,2048,2050,2052,2054,2056,2058,2060,2062,2064,2066,2068,2070,2072,2074,2076,2078,2080,2082,2084,2086,2088,2090,2092,2094,2096,2098,2100,2102,2104,2106,2108,2110,2112,2114,2116,2118,2120,2122,2124,2126,2128,2130,2132,2134,2136,2138,2140,2142,2144,2146,2148,2150,2152,2154,2156,2158,2160,2162,2164,2166,2168,2170,2172,2174,2176,2178,2180,2182,2184,2186,2188,2190,2192,2194,2196,2198,2200,2202,2204,2206,2208,2210,2212,2214,2216,2218,2220,2222,2224,2226,2228,2230,2232,2234,2236,2238,2240,2242,2244,2246,2248,2250,2252,2254,2256,2258,2260,2262,2264,2266,2268,2270,2272,2274,2276,2278,2280,2282,2284,2286,2288,2290,2292,2294,2296,2298,2300,2302,2304,2306,2308,2310,2312,2314,2316,2318,2320,2322,2324,2326,2328,2330,2332,2334,2336,2338,2340,2342,2344,2346,2348,2350,2352,2354,2356,2358,2360,2362,2364,2366,2368,2370,2372,2374,2376,2378,2380,2382,2384,2386,2388,2390,2392,2394,2396,2398,2400,2402,2404,2406,2408,2410,2412,2414,2416,2418,2420,2422,2424,2426,2428,2430,2432,2434,2436,2438,2440,2442,2444,2446,2448,2450,2452,2454,2456,2458,2460,2462,2464,2466,2468,2470,2472,2474,2476,2478,2480,2482,2484,2486,2488,2490,2492,2494,2496,2498,2500,2502,2504,2506,2508,2510,2512,2514,2516,2518,2520,2522,2524,2526,2528,2530,2532,2534,2536,2538,2540,2542,2544,2546,2548,2550,2552,2554,2556,2558,2560,2562,2564,2566,2568,2570,2572,2574,2576,2578,2580,2582,2584,2586,2588,2590,2592,2594,2596,2598,2600,2602,2604,2606,2608,2610,2612,2614,2616,2618,2620,2622,2624,2626,2628,2630,2632,2634,2636,2638,2640,2642,2644,2646,2648,2650,2652,2654,2656,2658,2660,2662,2664,2666,2668,2670,2672,2674,2676,2678,2680,2682,2684,2686,2688,2690,2692,2694,2696,2698,2700,2702,2704,2706,2708,2710,2712,2714,2716,2718,2720,2722,2724,2726,2728,2730,2732,2734,2736,2738,2740,2742,2744,2746,2748,2750,2752,2754,2756,2758,2760,2762,2764,2766,2768,2770,2772,2774,2776,2778,2780,2782,2784,2786,2788,2790,2792,2794,2796,2798,2800,2802,2804,2806,2808,2810,2812,2814,2816,2818,2820,2822,2824,2826,2828,2830,2832,2834,2836,2838,2840,2842,2844,2846,2848,2850,2852,2854,2856,2858,2860,2862,2864,2866,2868,2870,2872,2874,2876,2878,2880,2882,2884,2886,2888,2890,2892,2894,2896,2898,2900,2902,2904,2906,2908,2910,2912,2914,2916,2918,2920,2922,2924,2926,2928,2930,2932,2934,2936,2938,2940,2942,2944,2946,2948,2950,2952,2954,2956,2958,2960,2962,2964,2966,2968,2970,2972,2974,2976,2978,2980,2982,2984,2986,2988,2990,2992,2994,2996,2998,3000,"
     ]
    }
   ],
   "source": [
    "ans = []\n",
    "k = 0\n",
    "for i in range(1000,3001):\n",
    "    if i%2 == 0:\n",
    "        print(i, end=',')\n"
   ]
  },
  {
   "cell_type": "markdown",
   "metadata": {
    "id": "mcDlX_ISQCFH"
   },
   "source": [
    "# Question 13"
   ]
  },
  {
   "cell_type": "markdown",
   "metadata": {
    "id": "Tgw3oII1QCFI"
   },
   "source": [
    "Write a program that accepts a sentence and calculate the number of letters and digits.  \n",
    "Suppose the following input is supplied to the program:  \n",
    "hello world! 123  \n",
    "Then, the output should be:  \n",
    "LETTERS 10  \n",
    "DIGITS 3  "
   ]
  },
  {
   "cell_type": "code",
   "execution_count": null,
   "metadata": {
    "id": "eLV0FfU3QCFI",
    "outputId": "8fd9fcee-c4a0-48b2-f41b-3799175dc03a"
   },
   "outputs": [
    {
     "name": "stdout",
     "output_type": "stream",
     "text": [
      "['h', 'e', 'l', 'l', 'o', 'm', 'y', 'w', 'o', 'r', 'l', 'd', '1', '2', '3', '5']\n",
      "LETTERS 12 \n",
      "DIGITS 4\n"
     ]
    }
   ],
   "source": [
    "sentence = str(input())\n",
    "sentence = list(sentence)\n",
    "letter = 0\n",
    "digit = 0\n",
    "for i in range(len(sentence)):\n",
    "    if sentence[i].isnumeric():\n",
    "        digit += 1\n",
    "    else:\n",
    "        letter += 1\n",
    "print('LETTERS %d \\nDIGITS %d' %(letter, digit))\n"
   ]
  },
  {
   "cell_type": "markdown",
   "metadata": {
    "id": "ou_-Bnh7QCFI"
   },
   "source": [
    "# Question 14"
   ]
  },
  {
   "cell_type": "markdown",
   "metadata": {
    "id": "ZdAoOhEaQCFI"
   },
   "source": [
    "Write a program that accepts a sentence and calculate the number of upper case letters and lower case letters.  \n",
    "Suppose the following input is supplied to the program:  \n",
    "Hello world!   \n",
    "Then, the output should be:  \n",
    "UPPER CASE 1  \n",
    "LOWER CASE 9  "
   ]
  },
  {
   "cell_type": "code",
   "execution_count": null,
   "metadata": {
    "id": "u08QtOtcQCFI",
    "outputId": "1be62014-8bd3-41e3-d97a-3eca6342bbff"
   },
   "outputs": [
    {
     "name": "stdout",
     "output_type": "stream",
     "text": [
      "UPPER CASE 3 \n",
      "LOWER CASE 9\n"
     ]
    }
   ],
   "source": [
    "sentence = str(input())\n",
    "sentence = list(sentence)\n",
    "upper = 0\n",
    "lower = 0\n",
    "for i in range(len(sentence)):\n",
    "    if sentence[i].isupper():\n",
    "        upper += 1\n",
    "    if sentence[i].islower():\n",
    "        lower += 1\n",
    "print('UPPER CASE %d \\nLOWER CASE %d' %(upper, lower))\n"
   ]
  },
  {
   "cell_type": "markdown",
   "metadata": {
    "id": "Aiv8VuVOQCFJ"
   },
   "source": [
    "# Question 15"
   ]
  },
  {
   "cell_type": "markdown",
   "metadata": {
    "id": "12QTeCxCQCFJ"
   },
   "source": [
    "Write a program that computes the value of a+aa+aaa+aaaa with a given digit as the value of a.  \n",
    "Suppose the following input is supplied to the program:  \n",
    "9  \n",
    "Then, the output should be:  \n",
    "11106  "
   ]
  },
  {
   "cell_type": "code",
   "execution_count": null,
   "metadata": {
    "colab": {
     "base_uri": "https://localhost:8080/"
    },
    "executionInfo": {
     "elapsed": 1965,
     "status": "ok",
     "timestamp": 1668649640188,
     "user": {
      "displayName": "Senghak Leng",
      "userId": "09655230799856728235"
     },
     "user_tz": -420
    },
    "id": "ylGyzWR7QCFJ",
    "outputId": "5217f3f4-45ff-4ffd-bac9-851650c8211e"
   },
   "outputs": [
    {
     "name": "stdout",
     "output_type": "stream",
     "text": [
      "enter a num:9\n",
      "11106\n"
     ]
    }
   ],
   "source": [
    "n=input('')\n",
    "result=0\n",
    "for i in range(1,5):\n",
    "  a=n*i\n",
    "  new=int(a)\n",
    "  result=result+new\n",
    "print(result)"
   ]
  },
  {
   "cell_type": "markdown",
   "metadata": {
    "id": "xsd3pk6iRXEg"
   },
   "source": [
    "# Question 16"
   ]
  },
  {
   "cell_type": "markdown",
   "metadata": {
    "id": "FCN094AhRd1N"
   },
   "source": [
    "Use a list comprehension to square each odd number in a list. The list is input by a sequence of comma-separated numbers.  \n",
    "Suppose the following input is supplied to the program:  \n",
    "1,2,3,4,5,6,7,8,9  \n",
    "Then, the output should be:  \n",
    "1,3,5,7,9"
   ]
  },
  {
   "cell_type": "code",
   "execution_count": null,
   "metadata": {
    "colab": {
     "base_uri": "https://localhost:8080/"
    },
    "executionInfo": {
     "elapsed": 4612,
     "status": "ok",
     "timestamp": 1668650085603,
     "user": {
      "displayName": "Senghak Leng",
      "userId": "09655230799856728235"
     },
     "user_tz": -420
    },
    "id": "wFLlWAEdRoSR",
    "outputId": "795bf544-8dad-4f63-993d-dbb86a25ba7c"
   },
   "outputs": [
    {
     "name": "stdout",
     "output_type": "stream",
     "text": [
      "1,2,3,4,5,6,7,8,9\n",
      "1,3,5,7,9,"
     ]
    }
   ],
   "source": [
    "lis = [x for x in input('').split(',')]\n",
    "for i in range(len(lis)):\n",
    "  if int(lis[i])%2 ==1:\n",
    "    print(lis[i],end = ',')"
   ]
  },
  {
   "cell_type": "markdown",
   "metadata": {
    "id": "COxqLDLRWWp3"
   },
   "source": [
    "# Question 17"
   ]
  },
  {
   "cell_type": "markdown",
   "metadata": {
    "id": "Ei23EjLpWY7x"
   },
   "source": [
    "Write a program that computes the net amount of a bank account based a transaction log from console input. The transaction log format is shown as following:  \n",
    "D 100  \n",
    "W 200  \n",
    "  \n",
    "D means deposit while W means withdrawal.  \n",
    "Suppose the following input is supplied to the program:  \n",
    "D 300  \n",
    "D 300  \n",
    "W 200   \n",
    "D 100  \n",
    "Then, the output should be:  \n",
    "500  "
   ]
  },
  {
   "cell_type": "code",
   "execution_count": null,
   "metadata": {
    "colab": {
     "base_uri": "https://localhost:8080/"
    },
    "executionInfo": {
     "elapsed": 23537,
     "status": "ok",
     "timestamp": 1668663649714,
     "user": {
      "displayName": "Senghak Leng",
      "userId": "09655230799856728235"
     },
     "user_tz": -420
    },
    "id": "wu1EVUlYWjYQ",
    "outputId": "ced02ade-9f12-42bc-b3cc-f49cea89ee47"
   },
   "outputs": [
    {
     "name": "stdout",
     "output_type": "stream",
     "text": [
      "D 200\n",
      "D 300\n",
      "W 500\n",
      "W 100\n",
      "\n",
      "-100\n"
     ]
    }
   ],
   "source": [
    "total = 0\n",
    "while 1:\n",
    "    money = input()\n",
    "    if money == \"\":\n",
    "        break\n",
    "    else:\n",
    "        money = money.split(\" \")\n",
    "        if money[0] == \"D\":\n",
    "            total = total + int(money[1])\n",
    "        elif money[0] == \"W\":\n",
    "            total = total - int(money[1])\n",
    "\n",
    "print(total)"
   ]
  },
  {
   "cell_type": "markdown",
   "metadata": {
    "id": "UeGD_uyOG_6p"
   },
   "source": [
    "# Question 18"
   ]
  },
  {
   "cell_type": "markdown",
   "metadata": {
    "id": "SCX35NnnHBjp"
   },
   "source": [
    "A website requires the users to input username and password to register. Write a program to check the validity of password input by users.  \n",
    "Following are the criteria for checking the password:  \n",
    "1. At least 1 letter between [a-z]  \n",
    "2. At least 1 number between [0-9]  \n",
    "1. At least 1 letter between [A-Z]  \n",
    "3. At least 1 character from [$#@]  \n",
    "4. Minimum length of transaction password: 6  \n",
    "5. Maximum length of transaction password: 12  \n",
    "Your program should accept a sequence of comma separated passwords and will check them according to the above criteria. Passwords that match the criteria are to be printed, each separated by a comma.  \n",
    "Example  \n",
    "If the following passwords are given as input to the program:  \n",
    "ABd1234@1,a F1#,2w3E*,2We3345  \n",
    "Then, the output of the program should be:  \n",
    "ABd1234@1  \n"
   ]
  },
  {
   "cell_type": "code",
   "execution_count": null,
   "metadata": {
    "colab": {
     "base_uri": "https://localhost:8080/"
    },
    "executionInfo": {
     "elapsed": 9058,
     "status": "ok",
     "timestamp": 1668664018133,
     "user": {
      "displayName": "Senghak Leng",
      "userId": "09655230799856728235"
     },
     "user_tz": -420
    },
    "id": "j_Y0ZGn5HT3R",
    "outputId": "f3ccec89-4cf1-40fc-be9d-8fdd630b425a"
   },
   "outputs": [
    {
     "name": "stdout",
     "output_type": "stream",
     "text": [
      "enter sequence of comma separated passwords :ABd1234@1,a F1#,2w3E*,2We3345\n",
      "ABd1234@1\n"
     ]
    }
   ],
   "source": [
    "s=input(\"enter sequence of comma separated passwords :\")\n",
    "import re\n",
    "l=s.split(\",\")\n",
    "for i in l:\n",
    "  if(len(i)>=6 and len(i)<=12):\n",
    "    if re.search(\"([a-z])+\", i):\n",
    "      if re.search(\"([A-Z])+\", i):\n",
    "        if re.search(\"([0-9])+\", i):\n",
    "          if re.search(\"([#,@,$])+\", i):\n",
    "            print(i)"
   ]
  },
  {
   "cell_type": "markdown",
   "metadata": {
    "id": "10b8tTSbIFnf"
   },
   "source": [
    "# Question 19"
   ]
  },
  {
   "cell_type": "markdown",
   "metadata": {
    "id": "sIM9vzabIHxd"
   },
   "source": [
    "You are required to write a program to sort the (name, age, height) tuples by ascending order where name is string, age and height are numbers. The tuples are input by console. The sort criteria is:  \n",
    "1: Sort based on name;  \n",
    "2: Then sort based on age;  \n",
    "3: Then sort by score.   \n",
    "The priority is that name > age > score.  \n",
    "If the following tuples are given as input to the program:  \n",
    "Tom,19,80  \n",
    "John,20,90  \n",
    "Jony,17,91  \n",
    "Jony,17,93  \n",
    "Json,21,85  \n",
    "Then, the output of the program should be:  \n",
    "[('John', '20', '90'), ('Jony', '17', '91'), ('Jony', '17', '93'), ('Json', '21', '85'), ('Tom', '19', '80')]\n"
   ]
  },
  {
   "cell_type": "code",
   "execution_count": null,
   "metadata": {
    "colab": {
     "base_uri": "https://localhost:8080/"
    },
    "executionInfo": {
     "elapsed": 6425,
     "status": "ok",
     "timestamp": 1668664324205,
     "user": {
      "displayName": "Senghak Leng",
      "userId": "09655230799856728235"
     },
     "user_tz": -420
    },
    "id": "XbxpoAoIIQYT",
    "outputId": "4f0facf6-1fcb-49f9-f04b-9cdf8f69dd9a"
   },
   "outputs": [
    {
     "name": "stdout",
     "output_type": "stream",
     "text": [
      "Tom,19,80 John,20,90 Jony,17,91 Jony,17,93 Json,21,85\n",
      "[('John', '20', '90'), ('Jony', '17', '91'), ('Jony', '17', '93'), ('Json', '21', '85'), ('Tom', '19', '80')]\n"
     ]
    }
   ],
   "source": [
    "s = input('')\n",
    "lst = [tuple(x.split(',')) for x in s.split()]\n",
    "\n",
    "print(sorted(lst, key=lambda x: (x[0], x[1], x[2])))"
   ]
  },
  {
   "cell_type": "markdown",
   "metadata": {
    "id": "1PNpGvaQJTbA"
   },
   "source": [
    "# Question 20"
   ]
  },
  {
   "cell_type": "markdown",
   "metadata": {
    "id": "cgTJckCBJVoJ"
   },
   "source": [
    "Define a class with a generator which can iterate the numbers, which are divisible by 7, between a given range 0 and n."
   ]
  },
  {
   "cell_type": "code",
   "execution_count": null,
   "metadata": {
    "colab": {
     "base_uri": "https://localhost:8080/"
    },
    "executionInfo": {
     "elapsed": 521,
     "status": "ok",
     "timestamp": 1668684739044,
     "user": {
      "displayName": "Senghak Leng",
      "userId": "09655230799856728235"
     },
     "user_tz": -420
    },
    "id": "9rubgqmcJZIE",
    "outputId": "d047c95a-0868-41b6-f241-e9f4f0fcf6f6"
   },
   "outputs": [
    {
     "name": "stdout",
     "output_type": "stream",
     "text": [
      "<generator object div7 at 0x7f0d455c52d0>\n"
     ]
    }
   ],
   "source": [
    "def div7(n):\n",
    "    for i in range(1,n+1):\n",
    "        if i % 7 == 0:\n",
    "            yield i\n",
    "print(div7(21))\n"
   ]
  },
  {
   "cell_type": "markdown",
   "metadata": {
    "id": "Pkftky-7XKlz"
   },
   "source": [
    "# Question 21"
   ]
  },
  {
   "cell_type": "markdown",
   "metadata": {
    "id": "m-2b36YYXP9L"
   },
   "source": [
    "A robot moves in a plane starting from the original point (0,0). The robot can move toward UP, DOWN, LEFT and RIGHT with a given steps. The trace of robot movement is shown as the following:  \n",
    "UP 5  \n",
    "DOWN 3  \n",
    "LEFT 3  \n",
    "RIGHT 2  \n",
    "¡­  \n",
    "The numbers after the direction are steps. Please write a program to compute the distance from current position after a sequence of movement and original point. If the distance is a float, then just print the nearest integer.  \n",
    "Example:  \n",
    "If the following tuples are given as input to the program:  \n",
    "UP 5  \n",
    "DOWN 3  \n",
    "LEFT 3  \n",
    "RIGHT 2  \n",
    "Then, the output of the program should be:  \n",
    "2  "
   ]
  },
  {
   "cell_type": "code",
   "execution_count": null,
   "metadata": {
    "colab": {
     "base_uri": "https://localhost:8080/"
    },
    "executionInfo": {
     "elapsed": 11566,
     "status": "ok",
     "timestamp": 1668685437579,
     "user": {
      "displayName": "Senghak Leng",
      "userId": "09655230799856728235"
     },
     "user_tz": -420
    },
    "id": "7fnYhAMRXbpC",
    "outputId": "ebf495d2-21c2-4f1a-9411-83cbe58da04c"
   },
   "outputs": [
    {
     "name": "stdout",
     "output_type": "stream",
     "text": [
      "UP 5\n",
      "DOWN 3\n",
      "LEFT 3\n",
      "RIGHT 2\n",
      "2\n"
     ]
    }
   ],
   "source": [
    "x = ['UP ','DOWN ',\"LEFT \",'RIGHT ']\n",
    "y = list(range(len(x)))\n",
    "for i in range(len(x)):\n",
    "  y[i] = input(x[i])\n",
    "  i += 1\n",
    "vertical = abs(int(y[0])-int(y[1]))\n",
    "horizontal = abs(int(y[2])-int(y[3]))\n",
    "if vertical > horizontal:\n",
    "  print(vertical)\n",
    "else:\n",
    "  print(horizontal)"
   ]
  },
  {
   "cell_type": "markdown",
   "metadata": {
    "id": "MlVJmSyAZ0BF"
   },
   "source": [
    "# Question 22"
   ]
  },
  {
   "cell_type": "markdown",
   "metadata": {
    "id": "Q_R2XF3vZ2N7"
   },
   "source": [
    "Write a program to compute the frequency of the words from the input. The output should output after sorting the key alphanumerically.   \n",
    "Suppose the following input is supplied to the program:  \n",
    "New to Python or choosing between Python 2 and Python 3? Read Python 2 or Python 3.  \n",
    "Then, the output should be:  \n",
    "2:2  \n",
    "3.:1  \n",
    "3?:1  \n",
    "New:1  \n",
    "Python:5  \n",
    "Read:1  \n",
    "and:1  \n",
    "between:1  \n",
    "choosing:1  \n",
    "or:2  \n",
    "to:1  "
   ]
  },
  {
   "cell_type": "code",
   "execution_count": null,
   "metadata": {
    "colab": {
     "base_uri": "https://localhost:8080/"
    },
    "executionInfo": {
     "elapsed": 15756,
     "status": "ok",
     "timestamp": 1668685841391,
     "user": {
      "displayName": "Senghak Leng",
      "userId": "09655230799856728235"
     },
     "user_tz": -420
    },
    "id": "DEnvUYfoZ934",
    "outputId": "b5860521-d8e9-486d-e87d-6ab3ed855ce1"
   },
   "outputs": [
    {
     "name": "stdout",
     "output_type": "stream",
     "text": [
      "New to Python or choosing between Python 2 and Python 3? Read Python 2 or Python 3.\n",
      "2:2\n",
      "3.:1\n",
      "3?:1\n",
      "New:1\n",
      "Python:5\n",
      "Read:1\n",
      "and:1\n",
      "between:1\n",
      "choosing:1\n",
      "or:2\n",
      "to:1\n",
      "None\n"
     ]
    }
   ],
   "source": [
    "def frequency(input):\n",
    "    freq = {}\n",
    "\n",
    "    for word in input.split():\n",
    "        freq[word] = freq.get(word, 0) + 1\n",
    "\n",
    "    words = list(freq.keys())\n",
    "    words.sort()\n",
    "\n",
    "    for w in words:\n",
    "        print(f'{w}:{freq[w]}')\n",
    "  \n",
    "x = input()\n",
    "print(frequency(x))"
   ]
  },
  {
   "cell_type": "markdown",
   "metadata": {
    "id": "fXVrEx2PbZe0"
   },
   "source": [
    "# Question 23"
   ]
  },
  {
   "cell_type": "markdown",
   "metadata": {
    "id": "P6bAqCA5bfKN"
   },
   "source": [
    "Write a method which can calculate square value of number\n"
   ]
  },
  {
   "cell_type": "code",
   "execution_count": null,
   "metadata": {
    "colab": {
     "base_uri": "https://localhost:8080/"
    },
    "executionInfo": {
     "elapsed": 3448,
     "status": "ok",
     "timestamp": 1668686099797,
     "user": {
      "displayName": "Senghak Leng",
      "userId": "09655230799856728235"
     },
     "user_tz": -420
    },
    "id": "_LD7wTWRbg3R",
    "outputId": "05d1d656-02cc-4452-fdb7-4a3075d2b722"
   },
   "outputs": [
    {
     "name": "stdout",
     "output_type": "stream",
     "text": [
      "6\n",
      "36\n"
     ]
    }
   ],
   "source": [
    "def square(x):\n",
    "  y = x**2\n",
    "  return y\n",
    "x = int(input())\n",
    "print(square(x))"
   ]
  },
  {
   "cell_type": "markdown",
   "metadata": {
    "id": "2hZ6F507cUVc"
   },
   "source": [
    "# Question 24"
   ]
  },
  {
   "cell_type": "markdown",
   "metadata": {
    "id": "RDb-3Y6wcWFt"
   },
   "source": [
    "Python has many built-in functions, and if you do not know how to use it, you can read document online or find some books. But Python has a built-in document function for every built-in functions.  \n",
    "  \n",
    "Please write a program to print some Python built-in functions documents, such as abs(), int(), raw_input()  \n",
    "  \n",
    "And add document for your own function  "
   ]
  },
  {
   "cell_type": "code",
   "execution_count": null,
   "metadata": {
    "colab": {
     "base_uri": "https://localhost:8080/"
    },
    "executionInfo": {
     "elapsed": 335,
     "status": "ok",
     "timestamp": 1668739091021,
     "user": {
      "displayName": "Senghak Leng",
      "userId": "09655230799856728235"
     },
     "user_tz": -420
    },
    "id": "1RVV1SMxlGVG",
    "outputId": "004d56e2-4e98-48e8-e748-17991864d550"
   },
   "outputs": [
    {
     "name": "stdout",
     "output_type": "stream",
     "text": [
      "Return the absolute value of the argument.\n",
      "int([x]) -> integer\n",
      "int(x, base=10) -> integer\n",
      "\n",
      "Convert a number or string to an integer, or return 0 if no arguments\n",
      "are given.  If x is a number, return x.__int__().  For floating point\n",
      "numbers, this truncates towards zero.\n",
      "\n",
      "If x is not a number or if base is given, then x must be a string,\n",
      "bytes, or bytearray instance representing an integer literal in the\n",
      "given base.  The literal can be preceded by '+' or '-' and be surrounded\n",
      "by whitespace.  The base defaults to 10.  Valid bases are 0 and 2-36.\n",
      "Base 0 means to interpret the base from the string as an integer literal.\n",
      ">>> int('0b100', base=0)\n",
      "4\n"
     ]
    }
   ],
   "source": [
    "print(abs.__doc__)\n",
    "print(int.__doc__)\n",
    "#print(raw_input.__doc__) #python doesnt know about the raw_input"
   ]
  },
  {
   "cell_type": "markdown",
   "metadata": {
    "id": "YtHblMIXiR9m"
   },
   "source": [
    "# Question 25"
   ]
  },
  {
   "cell_type": "markdown",
   "metadata": {
    "id": "XoSHJ_u8iUht"
   },
   "source": [
    "Define a class, which have a class parameter and have a same instance parameter."
   ]
  },
  {
   "cell_type": "code",
   "execution_count": null,
   "metadata": {
    "id": "7t_R7PJalM02"
   },
   "outputs": [],
   "source": [
    "class Point:\n",
    "    def __init__(self):\n",
    "        self.x = 0\n",
    "        self.y = 0"
   ]
  },
  {
   "cell_type": "markdown",
   "metadata": {
    "id": "GmpRNkYZmeuJ"
   },
   "source": [
    "# Question 26"
   ]
  },
  {
   "cell_type": "markdown",
   "metadata": {
    "id": "V4buEP_GmhCf"
   },
   "source": [
    "Define a function which can compute the sum of two numbers."
   ]
  },
  {
   "cell_type": "code",
   "execution_count": null,
   "metadata": {
    "colab": {
     "base_uri": "https://localhost:8080/"
    },
    "executionInfo": {
     "elapsed": 332,
     "status": "ok",
     "timestamp": 1668739201156,
     "user": {
      "displayName": "Senghak Leng",
      "userId": "09655230799856728235"
     },
     "user_tz": -420
    },
    "id": "QupdDsL1mkkz",
    "outputId": "6c5faa68-d924-420f-ffed-ec33ad1dafa6"
   },
   "outputs": [
    {
     "name": "stdout",
     "output_type": "stream",
     "text": [
      "8\n"
     ]
    }
   ],
   "source": [
    "def sum(x,y):\n",
    "  return x+y\n",
    "print(sum(3,5))"
   ]
  },
  {
   "cell_type": "markdown",
   "metadata": {
    "id": "4efUnD96m4ov"
   },
   "source": [
    "# Question 27"
   ]
  },
  {
   "cell_type": "markdown",
   "metadata": {
    "id": "iLIJ9B9vm6vd"
   },
   "source": [
    "Define a function that can convert a integer into a string and print it in console.\n"
   ]
  },
  {
   "cell_type": "code",
   "execution_count": null,
   "metadata": {
    "colab": {
     "base_uri": "https://localhost:8080/"
    },
    "executionInfo": {
     "elapsed": 328,
     "status": "ok",
     "timestamp": 1668741842055,
     "user": {
      "displayName": "Senghak Leng",
      "userId": "09655230799856728235"
     },
     "user_tz": -420
    },
    "id": "Qa5etui_nLXG",
    "outputId": "b6764989-33f6-41f0-9937-bbc84a66f81a"
   },
   "outputs": [
    {
     "name": "stdout",
     "output_type": "stream",
     "text": [
      "<class 'str'>\n"
     ]
    }
   ],
   "source": [
    "def int_str(x):\n",
    "  return str(x)\n",
    "print(type(int_str(5)))"
   ]
  },
  {
   "cell_type": "markdown",
   "metadata": {
    "id": "xLJmUlnzxC0B"
   },
   "source": [
    "# Question 28"
   ]
  },
  {
   "cell_type": "markdown",
   "metadata": {
    "id": "iv1TyMGMxEja"
   },
   "source": [
    "Define a function that can convert a integer into a string and print it in console."
   ]
  },
  {
   "cell_type": "code",
   "execution_count": null,
   "metadata": {
    "id": "iOkjsyMTxKFq"
   },
   "outputs": [],
   "source": [
    "def int_str(x):\n",
    "  return str(x)\n",
    "print(type(int_str(5)))"
   ]
  },
  {
   "cell_type": "markdown",
   "metadata": {
    "id": "8dYeCeqlxMBb"
   },
   "source": [
    "# Question 29"
   ]
  },
  {
   "cell_type": "markdown",
   "metadata": {
    "id": "bQ_koTN2xOhC"
   },
   "source": [
    "Define a function that can receive two integral numbers in string form and compute their sum and then print it in console."
   ]
  },
  {
   "cell_type": "code",
   "execution_count": null,
   "metadata": {
    "colab": {
     "base_uri": "https://localhost:8080/"
    },
    "executionInfo": {
     "elapsed": 325,
     "status": "ok",
     "timestamp": 1668742074950,
     "user": {
      "displayName": "Senghak Leng",
      "userId": "09655230799856728235"
     },
     "user_tz": -420
    },
    "id": "fUCo68J-xWuu",
    "outputId": "be31081a-b43c-4d8f-fca4-3586a6486ee7"
   },
   "outputs": [
    {
     "name": "stdout",
     "output_type": "stream",
     "text": [
      "7\n"
     ]
    }
   ],
   "source": [
    "def sum(a,b):\n",
    "\ts = int(a) + int(b)\n",
    "\treturn s \n",
    "num1, num2 = \"2\",\"5\"\n",
    "print(sum(num1,num2))"
   ]
  },
  {
   "cell_type": "markdown",
   "metadata": {
    "id": "yiNDllxVx2JQ"
   },
   "source": [
    "#Question 30"
   ]
  },
  {
   "cell_type": "markdown",
   "metadata": {
    "id": "UBkR-EyHx3ta"
   },
   "source": [
    "Define a function that can accept two strings as input and concatenate them and then print it in console.\n"
   ]
  },
  {
   "cell_type": "code",
   "execution_count": null,
   "metadata": {
    "colab": {
     "base_uri": "https://localhost:8080/"
    },
    "executionInfo": {
     "elapsed": 328,
     "status": "ok",
     "timestamp": 1668742148373,
     "user": {
      "displayName": "Senghak Leng",
      "userId": "09655230799856728235"
     },
     "user_tz": -420
    },
    "id": "FFFLFgE1x9Ab",
    "outputId": "5471300e-f80a-429e-8a79-c55fd32ab117"
   },
   "outputs": [
    {
     "name": "stdout",
     "output_type": "stream",
     "text": [
      "HelloWorld\n"
     ]
    }
   ],
   "source": [
    "def concat(a,b):\n",
    "  return a + b\n",
    "print(concat(\"Hello\",\"World\"))"
   ]
  },
  {
   "cell_type": "markdown",
   "metadata": {
    "id": "DWgRihaVyIks"
   },
   "source": [
    "# Question 31"
   ]
  },
  {
   "cell_type": "markdown",
   "metadata": {
    "id": "sCYtFfbyyLWm"
   },
   "source": [
    "Define a function that can accept two strings as input and print the string with maximum length in console. If two strings have the same length, then the function should print al l strings line by line.\n"
   ]
  },
  {
   "cell_type": "code",
   "execution_count": null,
   "metadata": {
    "colab": {
     "base_uri": "https://localhost:8080/"
    },
    "executionInfo": {
     "elapsed": 336,
     "status": "ok",
     "timestamp": 1668742397211,
     "user": {
      "displayName": "Senghak Leng",
      "userId": "09655230799856728235"
     },
     "user_tz": -420
    },
    "id": "YwkmLK9KyRSI",
    "outputId": "ca9a9fb8-7f5e-40d8-a640-8a7250bae76f"
   },
   "outputs": [
    {
     "name": "stdout",
     "output_type": "stream",
     "text": [
      "Worlds\n"
     ]
    }
   ],
   "source": [
    "def maxPrint(a,b):\n",
    "  if len(a)>len(b):\n",
    "    print(a)\n",
    "  if len(b)>len(a):\n",
    "    print(b)\n",
    "  else:\n",
    "    print(a+\"\\n\"+b)\n",
    "maxPrint(\"Hello\",\"World\")"
   ]
  },
  {
   "cell_type": "markdown",
   "metadata": {
    "id": "P-gfDtSMzHT1"
   },
   "source": [
    "# Question 32"
   ]
  },
  {
   "cell_type": "markdown",
   "metadata": {
    "id": "FBJ1i15VzJr5"
   },
   "source": [
    "Define a function that can accept an integer number as input and print the \"It is an even number\" if the number is even, otherwise print \"It is an odd number\".\n"
   ]
  },
  {
   "cell_type": "code",
   "execution_count": null,
   "metadata": {
    "colab": {
     "base_uri": "https://localhost:8080/"
    },
    "executionInfo": {
     "elapsed": 7,
     "status": "ok",
     "timestamp": 1668742540217,
     "user": {
      "displayName": "Senghak Leng",
      "userId": "09655230799856728235"
     },
     "user_tz": -420
    },
    "id": "g4JC-mzFzNS7",
    "outputId": "64519c41-768c-4568-e126-57f1ab652d8c"
   },
   "outputs": [
    {
     "name": "stdout",
     "output_type": "stream",
     "text": [
      "It is an odd number\n",
      "It is an even number\n"
     ]
    }
   ],
   "source": [
    "def oddEven(a):\n",
    "  if int(a)%2 == 0:\n",
    "    print(\"It is an even number\")\n",
    "  else:\n",
    "    print(\"It is an odd number\")\n",
    "oddEven(5)\n",
    "oddEven(8)"
   ]
  },
  {
   "cell_type": "markdown",
   "metadata": {
    "id": "_jcZ2mL9zqEi"
   },
   "source": [
    "# Question 33"
   ]
  },
  {
   "cell_type": "markdown",
   "metadata": {
    "id": "749gdARVzsS2"
   },
   "source": [
    "Define a function which can print a dictionary where the keys are numbers between 1 and 3 (both included) and the values are square of keys.\n"
   ]
  },
  {
   "cell_type": "code",
   "execution_count": null,
   "metadata": {
    "colab": {
     "base_uri": "https://localhost:8080/"
    },
    "executionInfo": {
     "elapsed": 334,
     "status": "ok",
     "timestamp": 1668742802897,
     "user": {
      "displayName": "Senghak Leng",
      "userId": "09655230799856728235"
     },
     "user_tz": -420
    },
    "id": "8G5FuKTgzwn4",
    "outputId": "7c11ce79-8881-4738-caa6-aacd5eb5e4ae"
   },
   "outputs": [
    {
     "name": "stdout",
     "output_type": "stream",
     "text": [
      "{1: 1, 2: 4, 3: 9}\n"
     ]
    }
   ],
   "source": [
    "def squareDict1():\n",
    "  d = dict()\n",
    "  for x in range(1,4):\n",
    "      d[x]=x**2\n",
    "  return d\n",
    "print(squareDict())  "
   ]
  },
  {
   "cell_type": "markdown",
   "metadata": {
    "id": "2QASTsE70Qcs"
   },
   "source": [
    "# Question 34"
   ]
  },
  {
   "cell_type": "markdown",
   "metadata": {
    "id": "CL3lHd0S0SOq"
   },
   "source": [
    "Define a function which can print a dictionary where the keys are numbers between 1 and 20 (both included) and the values are square of keys.\n"
   ]
  },
  {
   "cell_type": "code",
   "execution_count": null,
   "metadata": {
    "colab": {
     "base_uri": "https://localhost:8080/"
    },
    "executionInfo": {
     "elapsed": 316,
     "status": "ok",
     "timestamp": 1668742840916,
     "user": {
      "displayName": "Senghak Leng",
      "userId": "09655230799856728235"
     },
     "user_tz": -420
    },
    "id": "fFTg9rB80Vvq",
    "outputId": "08ef688d-2191-4fcf-ebbd-773fb72ff975"
   },
   "outputs": [
    {
     "name": "stdout",
     "output_type": "stream",
     "text": [
      "{1: 1, 2: 4, 3: 9, 4: 16, 5: 25, 6: 36, 7: 49, 8: 64, 9: 81, 10: 100, 11: 121, 12: 144, 13: 169, 14: 196, 15: 225, 16: 256, 17: 289, 18: 324, 19: 361, 20: 400}\n"
     ]
    }
   ],
   "source": [
    "def squareDict2():\n",
    "  d = dict()\n",
    "  for x in range(1,21):\n",
    "      d[x]=x**2\n",
    "  return d\n",
    "print(squareDict2())"
   ]
  },
  {
   "cell_type": "markdown",
   "metadata": {
    "id": "s4kbr-4g1F6Q"
   },
   "source": [
    "# Question 35"
   ]
  },
  {
   "cell_type": "markdown",
   "metadata": {
    "id": "bA-qLjl91Irr"
   },
   "source": [
    "Define a function which can generate a dictionary where the keys are numbers between 1 and 20 (both included) and the values are square of keys. The function should just print the values only."
   ]
  },
  {
   "cell_type": "code",
   "execution_count": null,
   "metadata": {
    "colab": {
     "base_uri": "https://localhost:8080/"
    },
    "executionInfo": {
     "elapsed": 308,
     "status": "ok",
     "timestamp": 1668743153363,
     "user": {
      "displayName": "Senghak Leng",
      "userId": "09655230799856728235"
     },
     "user_tz": -420
    },
    "id": "Ad2VH4DO1Q78",
    "outputId": "2e8a4df0-e79b-4f0e-8a2b-ec72fcaa3777"
   },
   "outputs": [
    {
     "name": "stdout",
     "output_type": "stream",
     "text": [
      "dict_values([1, 4, 9, 16, 25, 36, 49, 64, 81, 100, 121, 144, 169, 196, 225, 256, 289, 324, 361, 400])\n"
     ]
    }
   ],
   "source": [
    "def squareDict3():\n",
    "  d = dict()\n",
    "  for x in range(1,21):\n",
    "      d[x]=x**2\n",
    "  return d.values()\n",
    "print(squareDict3())"
   ]
  },
  {
   "cell_type": "markdown",
   "metadata": {
    "id": "Hx82Rucj1_hE"
   },
   "source": [
    "# Question 36"
   ]
  },
  {
   "cell_type": "markdown",
   "metadata": {
    "id": "0ofdRelR2CCc"
   },
   "source": [
    "Define a function which can generate a dictionary where the keys are numbers between 1 and 20 (both included) and the values are square of keys. The function should just print the keys only."
   ]
  },
  {
   "cell_type": "code",
   "execution_count": null,
   "metadata": {
    "id": "hlN7stqa2GsN"
   },
   "outputs": [],
   "source": [
    "def squareDict4():\n",
    "  d = dict()\n",
    "  for x in range(1,21):\n",
    "      d[x]=x**2\n",
    "  return d.keys()\n",
    "print(squareDict3())"
   ]
  },
  {
   "cell_type": "markdown",
   "metadata": {
    "id": "fIQidjP_2KJe"
   },
   "source": [
    "# Question 37"
   ]
  },
  {
   "cell_type": "markdown",
   "metadata": {
    "id": "YR4uUrOZ2MsL"
   },
   "source": [
    "Define a function which can generate and print a list where the values are square of numbers between 1 and 20 (both included).\n"
   ]
  },
  {
   "cell_type": "code",
   "execution_count": null,
   "metadata": {
    "colab": {
     "base_uri": "https://localhost:8080/"
    },
    "executionInfo": {
     "elapsed": 458,
     "status": "ok",
     "timestamp": 1668743401331,
     "user": {
      "displayName": "Senghak Leng",
      "userId": "09655230799856728235"
     },
     "user_tz": -420
    },
    "id": "2yO-LKzw2QMe",
    "outputId": "e015d0a6-44f3-42b2-cf61-a3b7b1e6fbeb"
   },
   "outputs": [
    {
     "name": "stdout",
     "output_type": "stream",
     "text": [
      "[1, 4, 9, 16, 25, 36, 49, 64, 81, 100, 121, 144, 169, 196, 225, 256, 289, 324, 361, 400]\n"
     ]
    }
   ],
   "source": [
    "def lis():\n",
    "  k = list()\n",
    "  for i in range(1,21):\n",
    "    k.append(i**2)\n",
    "  return k\n",
    "print(lis())"
   ]
  },
  {
   "cell_type": "markdown",
   "metadata": {
    "id": "YbofqIc-259y"
   },
   "source": [
    "# Question 38"
   ]
  },
  {
   "cell_type": "markdown",
   "metadata": {
    "id": "WbjiLSLj28Kr"
   },
   "source": [
    "Define a function which can generate a list where the values are square of numbers between 1 and 20 (both included). Then the function needs to print the first 5 elements in the list.\n"
   ]
  },
  {
   "cell_type": "code",
   "execution_count": null,
   "metadata": {
    "colab": {
     "base_uri": "https://localhost:8080/"
    },
    "executionInfo": {
     "elapsed": 365,
     "status": "ok",
     "timestamp": 1668743557741,
     "user": {
      "displayName": "Senghak Leng",
      "userId": "09655230799856728235"
     },
     "user_tz": -420
    },
    "id": "iIkvnfSB2_3D",
    "outputId": "5a6f9bda-4195-4377-d84a-682a046489de"
   },
   "outputs": [
    {
     "name": "stdout",
     "output_type": "stream",
     "text": [
      "[1, 4, 9, 16, 25]\n"
     ]
    }
   ],
   "source": [
    "def lis1():\n",
    "  k = list()\n",
    "  for i in range(1,21):\n",
    "    k.append(i**2)\n",
    "  return k[:5]\n",
    "print(lis1())"
   ]
  },
  {
   "cell_type": "markdown",
   "metadata": {
    "id": "p_pqCV9l3f6f"
   },
   "source": [
    "# Question 39"
   ]
  },
  {
   "cell_type": "markdown",
   "metadata": {
    "id": "cJzdpwN23kba"
   },
   "source": [
    "Define a function which can generate a list where the values are square of numbers between 1 and 20 (both included). Then the function needs to print the last 5 elements in the list.\n"
   ]
  },
  {
   "cell_type": "code",
   "execution_count": null,
   "metadata": {
    "colab": {
     "base_uri": "https://localhost:8080/"
    },
    "executionInfo": {
     "elapsed": 12,
     "status": "ok",
     "timestamp": 1668743702163,
     "user": {
      "displayName": "Senghak Leng",
      "userId": "09655230799856728235"
     },
     "user_tz": -420
    },
    "id": "mhv6f7fS3plh",
    "outputId": "f84e3cc3-8120-4001-9f1a-c0e66d38fb17"
   },
   "outputs": [
    {
     "name": "stdout",
     "output_type": "stream",
     "text": [
      "[256, 289, 324, 361, 400]\n"
     ]
    }
   ],
   "source": [
    "def lis2():\n",
    "  k = list()\n",
    "  for i in range(1,21):\n",
    "    k.append(i**2)\n",
    "  return k[-5:]\n",
    "print(lis2())"
   ]
  },
  {
   "cell_type": "markdown",
   "metadata": {
    "id": "6GP9qrhu4Faf"
   },
   "source": [
    "# Question 40"
   ]
  },
  {
   "cell_type": "markdown",
   "metadata": {
    "id": "nIs9csjc4H4B"
   },
   "source": [
    "Define a function which can generate a list where the values are square of numbers between 1 and 20 (both included). Then the function needs to print all values except the first 5 elements in the list."
   ]
  },
  {
   "cell_type": "code",
   "execution_count": null,
   "metadata": {
    "colab": {
     "base_uri": "https://localhost:8080/"
    },
    "executionInfo": {
     "elapsed": 334,
     "status": "ok",
     "timestamp": 1668743858906,
     "user": {
      "displayName": "Senghak Leng",
      "userId": "09655230799856728235"
     },
     "user_tz": -420
    },
    "id": "F2AHCFfl4Ytt",
    "outputId": "13d63420-b945-41ca-9c22-0500952a990d"
   },
   "outputs": [
    {
     "name": "stdout",
     "output_type": "stream",
     "text": [
      "[36, 49, 64, 81, 100, 121, 144, 169, 196, 225, 256, 289, 324, 361, 400]\n"
     ]
    }
   ],
   "source": [
    "def lis3():\n",
    "  k = list()\n",
    "  for i in range(1,21):\n",
    "    k.append(i**2)\n",
    "  return k[5:]\n",
    "print(lis3())"
   ]
  },
  {
   "cell_type": "markdown",
   "metadata": {
    "id": "ZssZIMdJ4psL"
   },
   "source": [
    "# Question 41"
   ]
  },
  {
   "cell_type": "markdown",
   "metadata": {
    "id": "C62KOpOZ4ror"
   },
   "source": [
    "Define a function which can generate and print a tuple where the value are square of numbers between 1 and 20 (both included). "
   ]
  },
  {
   "cell_type": "code",
   "execution_count": null,
   "metadata": {
    "colab": {
     "base_uri": "https://localhost:8080/"
    },
    "executionInfo": {
     "elapsed": 12,
     "status": "ok",
     "timestamp": 1668744047881,
     "user": {
      "displayName": "Senghak Leng",
      "userId": "09655230799856728235"
     },
     "user_tz": -420
    },
    "id": "bRdaHPUa4v4L",
    "outputId": "87166058-1bbb-4ce4-bfa3-4e28c0bf09f0"
   },
   "outputs": [
    {
     "name": "stdout",
     "output_type": "stream",
     "text": [
      "(1, 4, 9, 16, 25, 36, 49, 64, 81, 100, 121, 144, 169, 196, 225, 256, 289, 324, 361, 400)\n"
     ]
    }
   ],
   "source": [
    "def tup():\n",
    "  x = list()\n",
    "  for i in range(1,21):\n",
    "    x.append(i**2)\n",
    "  return tuple(x)\n",
    "print(tup())"
   ]
  },
  {
   "cell_type": "markdown",
   "metadata": {
    "id": "BFslnY4k5Z6W"
   },
   "source": [
    "# Question 42"
   ]
  },
  {
   "cell_type": "markdown",
   "metadata": {
    "id": "f9xiO4Z25b92"
   },
   "source": [
    "With a given tuple (1,2,3,4,5,6,7,8,9,10), write a program to print the first half values in one line and the last half values in one line. \n"
   ]
  },
  {
   "cell_type": "code",
   "execution_count": null,
   "metadata": {
    "colab": {
     "base_uri": "https://localhost:8080/"
    },
    "executionInfo": {
     "elapsed": 318,
     "status": "ok",
     "timestamp": 1668744589122,
     "user": {
      "displayName": "Senghak Leng",
      "userId": "09655230799856728235"
     },
     "user_tz": -420
    },
    "id": "zwrgjdi05jJD",
    "outputId": "e595f265-614d-418f-d1e8-ba322a493a25"
   },
   "outputs": [
    {
     "name": "stdout",
     "output_type": "stream",
     "text": [
      "(1, 2, 3, 4, 5)(6, 7, 8, 9, 10)\n"
     ]
    }
   ],
   "source": [
    "giv_tuple = (1,2,3,4,5,6,7,8,9,10)\n",
    "print(giv_tuple[0:5],end = '')\n",
    "print(giv_tuple[5:])"
   ]
  },
  {
   "cell_type": "markdown",
   "metadata": {
    "id": "8fVDs3WM61Dv"
   },
   "source": [
    "# Question 43"
   ]
  },
  {
   "cell_type": "markdown",
   "metadata": {
    "id": "r4i472IC64MX"
   },
   "source": [
    "Write a program to generate and print another tuple whose values are even numbers in the given tuple (1,2,3,4,5,6,7,8,9,10). \n"
   ]
  },
  {
   "cell_type": "code",
   "execution_count": null,
   "metadata": {
    "colab": {
     "base_uri": "https://localhost:8080/"
    },
    "executionInfo": {
     "elapsed": 344,
     "status": "ok",
     "timestamp": 1668744853295,
     "user": {
      "displayName": "Senghak Leng",
      "userId": "09655230799856728235"
     },
     "user_tz": -420
    },
    "id": "tjA5U5sW71Ht",
    "outputId": "fe6e33b9-527a-47f3-9a94-0fbf0cda70f5"
   },
   "outputs": [
    {
     "name": "stdout",
     "output_type": "stream",
     "text": [
      "(2, 4, 6, 8, 10)\n"
     ]
    }
   ],
   "source": [
    "giv_tuple = (1,2,3,4,5,6,7,8,9,10)\n",
    "x = list(giv_tuple)\n",
    "k = list()\n",
    "for i in range(len(x)):\n",
    "  if x[i]%2 == 0:\n",
    "    k.append(x[i])\n",
    "print(tuple(k))"
   ]
  },
  {
   "cell_type": "markdown",
   "metadata": {
    "id": "5HtcdHYR8cpI"
   },
   "source": [
    "# Question 44"
   ]
  },
  {
   "cell_type": "markdown",
   "metadata": {
    "id": "wne4gpmL8ej0"
   },
   "source": [
    "Write a program which accepts a string as input to print \"Yes\" if the string is \"yes\" or \"YES\" or \"Yes\", otherwise print \"No\". "
   ]
  },
  {
   "cell_type": "code",
   "execution_count": null,
   "metadata": {
    "colab": {
     "base_uri": "https://localhost:8080/"
    },
    "executionInfo": {
     "elapsed": 2818,
     "status": "ok",
     "timestamp": 1668745620226,
     "user": {
      "displayName": "Senghak Leng",
      "userId": "09655230799856728235"
     },
     "user_tz": -420
    },
    "id": "-au9BvG8-975",
    "outputId": "6e28d494-615f-4db5-c261-bbf84b275aec"
   },
   "outputs": [
    {
     "name": "stdout",
     "output_type": "stream",
     "text": [
      "disb\n",
      "No\n"
     ]
    }
   ],
   "source": [
    "x = input('')\n",
    "if x == \"Yes\" or x == 'yes' or x == 'YES':\n",
    "  print('Yes')\n",
    "else: print('No')"
   ]
  },
  {
   "cell_type": "markdown",
   "metadata": {
    "id": "wQB_XQBu_Xsj"
   },
   "source": [
    "# Question 45"
   ]
  },
  {
   "cell_type": "markdown",
   "metadata": {
    "id": "xspaAXL6_aMq"
   },
   "source": [
    "Write a program which can filter even numbers in a list by using filter function. The list is: [1,2,3,4,5,6,7,8,9,10].\n"
   ]
  },
  {
   "cell_type": "code",
   "execution_count": null,
   "metadata": {
    "colab": {
     "base_uri": "https://localhost:8080/"
    },
    "executionInfo": {
     "elapsed": 333,
     "status": "ok",
     "timestamp": 1668746245948,
     "user": {
      "displayName": "Senghak Leng",
      "userId": "09655230799856728235"
     },
     "user_tz": -420
    },
    "id": "J_6sfjc2_gKB",
    "outputId": "f7752d00-cf11-4953-bd28-79a4364f02f7"
   },
   "outputs": [
    {
     "name": "stdout",
     "output_type": "stream",
     "text": [
      "[2, 4, 6, 8, 10]\n"
     ]
    }
   ],
   "source": [
    "lis = [1,2,3,4,5,6,7,8,9,10]\n",
    "k = list(filter(lambda x: x%2==0, lis))\n",
    "print(k)"
   ]
  },
  {
   "cell_type": "markdown",
   "metadata": {
    "id": "v_EwdbKzBwy1"
   },
   "source": [
    "# Question 46"
   ]
  },
  {
   "cell_type": "markdown",
   "metadata": {
    "id": "r5KV9CBdByrM"
   },
   "source": [
    "Write a program which can map() to make a list whose elements are square of elements in [1,2,3,4,5,6,7,8,9,10]."
   ]
  },
  {
   "cell_type": "code",
   "execution_count": 107,
   "metadata": {
    "colab": {
     "base_uri": "https://localhost:8080/"
    },
    "executionInfo": {
     "elapsed": 13,
     "status": "ok",
     "timestamp": 1668748310412,
     "user": {
      "displayName": "Senghak Leng",
      "userId": "09655230799856728235"
     },
     "user_tz": -420
    },
    "id": "tOo28hbiB2ng",
    "outputId": "7520fd01-6d72-440a-93e3-04813df6dc67"
   },
   "outputs": [
    {
     "name": "stdout",
     "output_type": "stream",
     "text": [
      "[1, 4, 9, 16, 25, 36, 49, 64, 81, 100]\n"
     ]
    }
   ],
   "source": [
    "lis = [1,2,3,4,5,6,7,8,9,10]\n",
    "result = list(map(lambda x: x**2, lis))\n",
    "print(result)"
   ]
  },
  {
   "cell_type": "markdown",
   "metadata": {
    "id": "U4yWIgXBI_yB"
   },
   "source": [
    "# Question 47"
   ]
  },
  {
   "cell_type": "markdown",
   "metadata": {
    "id": "ofNI2O4cJBwE"
   },
   "source": [
    "Write a program which can map() and filter() to make a list whose elements are square of even number in [1,2,3,4,5,6,7,8,9,10].\n"
   ]
  },
  {
   "cell_type": "code",
   "execution_count": 114,
   "metadata": {
    "colab": {
     "base_uri": "https://localhost:8080/"
    },
    "executionInfo": {
     "elapsed": 541,
     "status": "ok",
     "timestamp": 1668748598336,
     "user": {
      "displayName": "Senghak Leng",
      "userId": "09655230799856728235"
     },
     "user_tz": -420
    },
    "id": "lfsIkzcpJYdZ",
    "outputId": "e237e294-f192-4d60-f9c6-55b6c74172a7"
   },
   "outputs": [
    {
     "name": "stdout",
     "output_type": "stream",
     "text": [
      "[4, 16, 36, 64, 100]\n"
     ]
    }
   ],
   "source": [
    "lis = [1,2,3,4,5,6,7,8,9,10]\n",
    "even_sq = (map(lambda x: x**2, filter(lambda   x: x%2==0, lis)))\n",
    "print(list(even_sq))"
   ]
  },
  {
   "cell_type": "markdown",
   "metadata": {
    "id": "7n9qHtT0Jtcs"
   },
   "source": [
    "# Question 48"
   ]
  },
  {
   "cell_type": "markdown",
   "metadata": {
    "id": "N-vEsEs2JwYt"
   },
   "source": [
    "Write a program which can filter() to make a list whose elements are even number between 1 and 20 (both included)."
   ]
  },
  {
   "cell_type": "code",
   "execution_count": 110,
   "metadata": {
    "colab": {
     "base_uri": "https://localhost:8080/"
    },
    "executionInfo": {
     "elapsed": 430,
     "status": "ok",
     "timestamp": 1668748450819,
     "user": {
      "displayName": "Senghak Leng",
      "userId": "09655230799856728235"
     },
     "user_tz": -420
    },
    "id": "TPV-Ps0AJ0QV",
    "outputId": "308944c9-d5b2-41c1-89a7-ae4012c6f8aa"
   },
   "outputs": [
    {
     "name": "stdout",
     "output_type": "stream",
     "text": [
      "[2, 4, 6, 8, 10, 12, 14, 16, 18, 20]\n"
     ]
    }
   ],
   "source": [
    "even = list(filter(lambda   x: x%2==0, [x for x in range(1,21)]))\n",
    "print(even)"
   ]
  },
  {
   "cell_type": "markdown",
   "metadata": {
    "id": "fsJnXkYGKLe5"
   },
   "source": [
    "# Question 49"
   ]
  },
  {
   "cell_type": "markdown",
   "metadata": {
    "id": "Wx8TJJSiKNhs"
   },
   "source": [
    "Write a program which can map() to make a list whose elements are square of numbers between 1 and 20 (both included)."
   ]
  },
  {
   "cell_type": "code",
   "execution_count": 113,
   "metadata": {
    "colab": {
     "base_uri": "https://localhost:8080/"
    },
    "executionInfo": {
     "elapsed": 562,
     "status": "ok",
     "timestamp": 1668748579965,
     "user": {
      "displayName": "Senghak Leng",
      "userId": "09655230799856728235"
     },
     "user_tz": -420
    },
    "id": "tac--s-SKQZ0",
    "outputId": "8761e0b4-5995-465e-d8c5-3cedc211f368"
   },
   "outputs": [
    {
     "name": "stdout",
     "output_type": "stream",
     "text": [
      "[1, 4, 9, 16, 25, 36, 49, 64, 81, 100, 121, 144, 169, 196, 225, 256, 289, 324, 361, 400]\n"
     ]
    }
   ],
   "source": [
    "sq = map(lambda x: x**2, [x for x in range(1,21)])\n",
    "print(list(sq))"
   ]
  },
  {
   "cell_type": "markdown",
   "metadata": {
    "id": "nNEjz5EWKwPX"
   },
   "source": [
    "# Question 50"
   ]
  },
  {
   "cell_type": "markdown",
   "metadata": {
    "id": "AEZj0T8uKyZs"
   },
   "source": [
    "Define a class named American which has a static method called printNationality."
   ]
  },
  {
   "cell_type": "code",
   "execution_count": 115,
   "metadata": {
    "colab": {
     "base_uri": "https://localhost:8080/"
    },
    "executionInfo": {
     "elapsed": 427,
     "status": "ok",
     "timestamp": 1668748840175,
     "user": {
      "displayName": "Senghak Leng",
      "userId": "09655230799856728235"
     },
     "user_tz": -420
    },
    "id": "tHlKMJ40K4N9",
    "outputId": "4d0bb319-8f96-49d2-c389-60cae9e00789"
   },
   "outputs": [
    {
     "name": "stdout",
     "output_type": "stream",
     "text": [
      "America\n",
      "America\n"
     ]
    }
   ],
   "source": [
    "class American(object):\n",
    "    @staticmethod\n",
    "    def printNationality():\n",
    "        print(\"America\")\n",
    "\n",
    "anAmerican = American()\n",
    "anAmerican.printNationality()\n",
    "American.printNationality()"
   ]
  },
  {
   "cell_type": "markdown",
   "metadata": {
    "id": "L3Hvcy_KLrpF"
   },
   "source": [
    "# Question 51 "
   ]
  },
  {
   "cell_type": "markdown",
   "metadata": {
    "id": "eJldTC-4LuKU"
   },
   "source": [
    "Define a class named American and its subclass NewYorker. "
   ]
  },
  {
   "cell_type": "code",
   "execution_count": 116,
   "metadata": {
    "colab": {
     "base_uri": "https://localhost:8080/"
    },
    "executionInfo": {
     "elapsed": 369,
     "status": "ok",
     "timestamp": 1668749981243,
     "user": {
      "displayName": "Senghak Leng",
      "userId": "09655230799856728235"
     },
     "user_tz": -420
    },
    "id": "-AIGYu7eLxUt",
    "outputId": "cc220ad2-fac1-4081-d0fc-e028b56137c2"
   },
   "outputs": [
    {
     "name": "stdout",
     "output_type": "stream",
     "text": [
      "<__main__.American object at 0x7fe0fcd1e190>\n",
      "<__main__.NewYorker object at 0x7fe0fcd1ee10>\n"
     ]
    }
   ],
   "source": [
    "class American(object):\n",
    "    pass\n",
    "\n",
    "class NewYorker(American):\n",
    "    pass\n",
    "\n",
    "anAmerican = American()\n",
    "aNewYorker = NewYorker()\n",
    "print(anAmerican)\n",
    "print(aNewYorker)"
   ]
  },
  {
   "cell_type": "markdown",
   "metadata": {
    "id": "T0z6jWTDQBc0"
   },
   "source": [
    "# Question 52"
   ]
  },
  {
   "cell_type": "markdown",
   "metadata": {
    "id": "Z20a33rAQD5M"
   },
   "source": [
    "Define a class named Circle which can be constructed by a radius. The Circle class has a method which can compute the area"
   ]
  },
  {
   "cell_type": "code",
   "execution_count": 120,
   "metadata": {
    "colab": {
     "base_uri": "https://localhost:8080/"
    },
    "executionInfo": {
     "elapsed": 378,
     "status": "ok",
     "timestamp": 1668750491916,
     "user": {
      "displayName": "Senghak Leng",
      "userId": "09655230799856728235"
     },
     "user_tz": -420
    },
    "id": "epTvU5CoQn9l",
    "outputId": "3da306ce-cb84-4df9-f695-8d4d57273c41"
   },
   "outputs": [
    {
     "data": {
      "text/plain": [
       "200.96"
      ]
     },
     "execution_count": 120,
     "metadata": {},
     "output_type": "execute_result"
    }
   ],
   "source": [
    "class circle():\n",
    "  def __init__(self, r):\n",
    "    self.radius = r\n",
    "  def area(self):\n",
    "    return self.radius**2*3.14\n",
    "c = circle(8)\n",
    "c.area()"
   ]
  },
  {
   "cell_type": "markdown",
   "metadata": {
    "id": "C0jbTkpRR9g7"
   },
   "source": [
    "# Question 53"
   ]
  },
  {
   "cell_type": "markdown",
   "metadata": {
    "id": "5QSuUGNUR_ot"
   },
   "source": [
    "Define a class named Rectangle which can be constructed by a length and width. The Rectangle class has a method which can compute the area. \n"
   ]
  },
  {
   "cell_type": "code",
   "execution_count": 123,
   "metadata": {
    "colab": {
     "base_uri": "https://localhost:8080/"
    },
    "executionInfo": {
     "elapsed": 383,
     "status": "ok",
     "timestamp": 1668750664785,
     "user": {
      "displayName": "Senghak Leng",
      "userId": "09655230799856728235"
     },
     "user_tz": -420
    },
    "id": "kEevsfZFSDow",
    "outputId": "f528d209-8205-4443-f6a1-4324953bc302"
   },
   "outputs": [
    {
     "data": {
      "text/plain": [
       "12"
      ]
     },
     "execution_count": 123,
     "metadata": {},
     "output_type": "execute_result"
    }
   ],
   "source": [
    "class rectArea():\n",
    "  def __init__(self,x,y):\n",
    "    self.length = x\n",
    "    self.width = y\n",
    "  def area(self):\n",
    "    return self.length*self.width\n",
    "b = rectArea(3,4)\n",
    "b.area()"
   ]
  },
  {
   "cell_type": "markdown",
   "metadata": {
    "id": "Poe2omsuSnS6"
   },
   "source": [
    "# Question 54"
   ]
  },
  {
   "cell_type": "markdown",
   "metadata": {
    "id": "CPtG8bb7Soz0"
   },
   "source": [
    "Define a class named Shape and its subclass Square. The Square class has an init function which takes a length as argument. Both classes have a area function which can print the area of the shape where Shape's area is 0 by default.\n"
   ]
  },
  {
   "cell_type": "code",
   "execution_count": 124,
   "metadata": {
    "colab": {
     "base_uri": "https://localhost:8080/"
    },
    "executionInfo": {
     "elapsed": 555,
     "status": "ok",
     "timestamp": 1668750769347,
     "user": {
      "displayName": "Senghak Leng",
      "userId": "09655230799856728235"
     },
     "user_tz": -420
    },
    "id": "kfrkcRV1Sr0K",
    "outputId": "51337db9-9411-4e9a-c2a9-2f22d4df1af6"
   },
   "outputs": [
    {
     "name": "stdout",
     "output_type": "stream",
     "text": [
      "9\n"
     ]
    }
   ],
   "source": [
    "class Shape(object):\n",
    "    def __init__(self):\n",
    "        pass\n",
    "    def area(self):\n",
    "        return 0\n",
    "class Square(Shape):\n",
    "    def __init__(self, l):\n",
    "        Shape.__init__(self)\n",
    "        self.length = l\n",
    "    def area(self):\n",
    "        return self.length*self.length\n",
    "Square= Square(3)\n",
    "print(Square.area())"
   ]
  },
  {
   "cell_type": "markdown",
   "metadata": {
    "id": "0iYPsKqATDbT"
   },
   "source": [
    "# Question 55"
   ]
  },
  {
   "cell_type": "markdown",
   "metadata": {
    "id": "nId4CLURTHPJ"
   },
   "source": [
    "Please raise a RuntimeError exception.\n"
   ]
  },
  {
   "cell_type": "code",
   "execution_count": null,
   "metadata": {
    "id": "0Obb62sXUGdS"
   },
   "outputs": [],
   "source": [
    "raise ValueError('A very specific bad thing happened.')"
   ]
  },
  {
   "cell_type": "markdown",
   "metadata": {
    "id": "P2DtmnHOVaGz"
   },
   "source": [
    "# Question 56"
   ]
  },
  {
   "cell_type": "markdown",
   "metadata": {
    "id": "L_ZbVcayVcCT"
   },
   "source": [
    "Write a function to compute 5/0 and use try/except to catch the exceptions."
   ]
  },
  {
   "cell_type": "code",
   "execution_count": 135,
   "metadata": {
    "colab": {
     "base_uri": "https://localhost:8080/"
    },
    "executionInfo": {
     "elapsed": 4,
     "status": "ok",
     "timestamp": 1668751663552,
     "user": {
      "displayName": "Senghak Leng",
      "userId": "09655230799856728235"
     },
     "user_tz": -420
    },
    "id": "zgFPr4eOVhYe",
    "outputId": "dc7d6ac5-b691-4eee-9fe4-ca61ab4e0233"
   },
   "outputs": [
    {
     "name": "stdout",
     "output_type": "stream",
     "text": [
      "Number divide by 0\n"
     ]
    }
   ],
   "source": [
    "def divide():\n",
    "    return 5/0\n",
    "\n",
    "try:\n",
    "    divide()\n",
    "except ZeroDivisionError as ze:\n",
    "    print(\"Number divide by 0\")\n",
    "except:\n",
    "    print(\"Any other exception\")"
   ]
  },
  {
   "cell_type": "markdown",
   "metadata": {
    "id": "7eN4A3zjWah5"
   },
   "source": [
    "# Question 57"
   ]
  },
  {
   "cell_type": "markdown",
   "metadata": {
    "id": "cNZ7hasjWb-D"
   },
   "source": [
    "Define a custom exception class which takes a string message as attribute."
   ]
  },
  {
   "cell_type": "code",
   "execution_count": 138,
   "metadata": {
    "colab": {
     "base_uri": "https://localhost:8080/",
     "height": 252
    },
    "executionInfo": {
     "elapsed": 582,
     "status": "error",
     "timestamp": 1668752130439,
     "user": {
      "displayName": "Senghak Leng",
      "userId": "09655230799856728235"
     },
     "user_tz": -420
    },
    "id": "i5w2HnLuWenS",
    "outputId": "c25cb4a0-09f6-427b-b8a1-f0c99f7fd69a"
   },
   "outputs": [
    {
     "name": "stdout",
     "output_type": "stream",
     "text": [
      "Calling str\n"
     ]
    },
    {
     "ename": "customError",
     "evalue": "ignored",
     "output_type": "error",
     "traceback": [
      "\u001b[0;31m---------------------------------------------------------------------------\u001b[0m",
      "\u001b[0;31mcustomError\u001b[0m                               Traceback (most recent call last)",
      "\u001b[0;32m<ipython-input-138-0273b482e17b>\u001b[0m in \u001b[0;36m<module>\u001b[0;34m\u001b[0m\n\u001b[1;32m     12\u001b[0m       \u001b[0;32mreturn\u001b[0m \u001b[0;34m'MyCustomError has been raised'\u001b[0m\u001b[0;34m\u001b[0m\u001b[0;34m\u001b[0m\u001b[0m\n\u001b[1;32m     13\u001b[0m \u001b[0;34m\u001b[0m\u001b[0m\n\u001b[0;32m---> 14\u001b[0;31m \u001b[0;32mraise\u001b[0m \u001b[0mcustomError\u001b[0m\u001b[0;34m(\u001b[0m\u001b[0;34m'We customized the Error'\u001b[0m\u001b[0;34m)\u001b[0m\u001b[0;34m\u001b[0m\u001b[0;34m\u001b[0m\u001b[0m\n\u001b[0m",
      "\u001b[0;31mcustomError\u001b[0m: MyCustomError, We customized the Error"
     ]
    },
    {
     "name": "stdout",
     "output_type": "stream",
     "text": [
      "Calling str\n",
      "Calling str\n"
     ]
    }
   ],
   "source": [
    "class customError(Exception):\n",
    "  def __init__(self, *args):\n",
    "    if args:\n",
    "      self.message = args[0]\n",
    "    else: \n",
    "      self.message = None\n",
    "  def __str__(self):\n",
    "    print('Calling str')\n",
    "    if self.message:\n",
    "      return 'MyCustomError, {0}'.format(self.message)\n",
    "    else: \n",
    "      return 'MyCustomError has been raised'\n",
    "\n",
    "raise customError('We customized the Error')"
   ]
  },
  {
   "cell_type": "markdown",
   "metadata": {
    "id": "Hxb1zFWJYTim"
   },
   "source": [
    "# Question 58"
   ]
  },
  {
   "cell_type": "markdown",
   "metadata": {
    "id": "eXFgt-olYXrD"
   },
   "source": [
    "Assuming that we have some email addresses in the \"username@companyname.com\" format, please write program to print the user name of a given email address. Both user names and company names are composed of letters only.\n"
   ]
  },
  {
   "cell_type": "code",
   "execution_count": 142,
   "metadata": {
    "colab": {
     "base_uri": "https://localhost:8080/"
    },
    "executionInfo": {
     "elapsed": 18570,
     "status": "ok",
     "timestamp": 1668752765880,
     "user": {
      "displayName": "Senghak Leng",
      "userId": "09655230799856728235"
     },
     "user_tz": -420
    },
    "id": "XgMKeUYbYqlS",
    "outputId": "7bbd0690-e6c6-4dcd-ce57-9953286d252e"
   },
   "outputs": [
    {
     "name": "stdout",
     "output_type": "stream",
     "text": [
      "john@google.com\n",
      "john\n"
     ]
    }
   ],
   "source": [
    "import re\n",
    "email = input('')\n",
    "pat2 = \"(\\w+)@(\\w+)\\.(com)\"\n",
    "r2 = re.match(pat2,email)\n",
    "print(r2.group(1))"
   ]
  },
  {
   "cell_type": "markdown",
   "metadata": {
    "id": "ojD2dIOJatzp"
   },
   "source": [
    "# Question 59"
   ]
  },
  {
   "cell_type": "markdown",
   "metadata": {
    "id": "Wr_I5e0Aav4c"
   },
   "source": [
    "Assuming that we have some email addresses in the \"username@companyname.com\" format, please write program to print the company name of a given email address. Both user names and company names are composed of letters only.\n"
   ]
  },
  {
   "cell_type": "code",
   "execution_count": 143,
   "metadata": {
    "colab": {
     "base_uri": "https://localhost:8080/"
    },
    "executionInfo": {
     "elapsed": 8787,
     "status": "ok",
     "timestamp": 1668752834920,
     "user": {
      "displayName": "Senghak Leng",
      "userId": "09655230799856728235"
     },
     "user_tz": -420
    },
    "id": "zVicvtu9ayeU",
    "outputId": "48a2faf3-da0d-46d0-c003-1d0e4a2fb1c8"
   },
   "outputs": [
    {
     "name": "stdout",
     "output_type": "stream",
     "text": [
      "john@google.com\n",
      "google\n"
     ]
    }
   ],
   "source": [
    "import re\n",
    "email = input('')\n",
    "pat2 = \"(\\w+)@(\\w+)\\.(com)\"\n",
    "r2 = re.match(pat2,email)\n",
    "print(r2.group(2))"
   ]
  },
  {
   "cell_type": "markdown",
   "metadata": {
    "id": "kHhoKe8Qa-_s"
   },
   "source": [
    "# Question 60"
   ]
  },
  {
   "cell_type": "markdown",
   "metadata": {
    "id": "go7Diu3WbA8c"
   },
   "source": [
    "Write a program which accepts a sequence of words separated by whitespace as input to print the words composed of digits only.\n"
   ]
  },
  {
   "cell_type": "code",
   "execution_count": 146,
   "metadata": {
    "colab": {
     "base_uri": "https://localhost:8080/"
    },
    "executionInfo": {
     "elapsed": 2568,
     "status": "ok",
     "timestamp": 1668753197434,
     "user": {
      "displayName": "Senghak Leng",
      "userId": "09655230799856728235"
     },
     "user_tz": -420
    },
    "id": "chDndEwebFgn",
    "outputId": "922f61c8-8d9c-4b24-aeab-dd1fcabe932e"
   },
   "outputs": [
    {
     "name": "stdout",
     "output_type": "stream",
     "text": [
      "2 cats and 3 dogs.\n",
      "['2', '3']\n"
     ]
    }
   ],
   "source": [
    "import re\n",
    "s = input()\n",
    "print(re.findall(\"\\d+\",s))"
   ]
  }
 ],
 "metadata": {
  "colab": {
   "collapsed_sections": [
    "PZnSdZAGQCEs",
    "QPMgGU2uQCE4",
    "SmixOcFKQCE6",
    "QFEzPSbhQCE8",
    "k7qVOEbzQCE-",
    "DATT6O5xQCE_",
    "VyrTk_UJQCFB",
    "8B1KdbX2QCFE",
    "fzqRTko_QCFF",
    "bq5xYgyoQCFG",
    "ejw7g93oQCFG",
    "L0MXPRoLQCFH",
    "mcDlX_ISQCFH",
    "ou_-Bnh7QCFI",
    "Aiv8VuVOQCFJ",
    "xsd3pk6iRXEg",
    "COxqLDLRWWp3",
    "UeGD_uyOG_6p",
    "10b8tTSbIFnf",
    "1PNpGvaQJTbA",
    "Pkftky-7XKlz",
    "MlVJmSyAZ0BF",
    "fXVrEx2PbZe0",
    "2hZ6F507cUVc",
    "YtHblMIXiR9m",
    "GmpRNkYZmeuJ",
    "4efUnD96m4ov",
    "xLJmUlnzxC0B",
    "8dYeCeqlxMBb",
    "yiNDllxVx2JQ",
    "DWgRihaVyIks",
    "P-gfDtSMzHT1",
    "_jcZ2mL9zqEi",
    "2QASTsE70Qcs",
    "s4kbr-4g1F6Q",
    "Hx82Rucj1_hE",
    "fIQidjP_2KJe",
    "YbofqIc-259y",
    "p_pqCV9l3f6f",
    "6GP9qrhu4Faf",
    "ZssZIMdJ4psL",
    "BFslnY4k5Z6W",
    "8fVDs3WM61Dv",
    "5HtcdHYR8cpI",
    "wQB_XQBu_Xsj",
    "v_EwdbKzBwy1",
    "U4yWIgXBI_yB",
    "7n9qHtT0Jtcs",
    "fsJnXkYGKLe5",
    "nNEjz5EWKwPX",
    "L3Hvcy_KLrpF",
    "T0z6jWTDQBc0",
    "C0jbTkpRR9g7",
    "Poe2omsuSnS6",
    "0iYPsKqATDbT",
    "P2DtmnHOVaGz",
    "7eN4A3zjWah5",
    "Hxb1zFWJYTim",
    "ojD2dIOJatzp",
    "kHhoKe8Qa-_s"
   ],
   "provenance": []
  },
  "kernelspec": {
   "display_name": "Python 3 (ipykernel)",
   "language": "python",
   "name": "python3"
  },
  "language_info": {
   "codemirror_mode": {
    "name": "ipython",
    "version": 3
   },
   "file_extension": ".py",
   "mimetype": "text/x-python",
   "name": "python",
   "nbconvert_exporter": "python",
   "pygments_lexer": "ipython3",
   "version": "3.9.13"
  },
  "vscode": {
   "interpreter": {
    "hash": "b37f6842cfa5693682ca177646b86562e7e6680399d6aa97975ae5063d95e764"
   }
  }
 },
 "nbformat": 4,
 "nbformat_minor": 1
}
